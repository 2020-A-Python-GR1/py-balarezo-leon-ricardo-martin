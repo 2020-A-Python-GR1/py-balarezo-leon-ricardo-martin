{
 "cells": [
  {
   "cell_type": "code",
   "execution_count": 16,
   "metadata": {},
   "outputs": [
    {
     "name": "stdout",
     "output_type": "stream",
     "text": [
      "hora inicio (horas / 24): 23\n",
      "minutos inicio: 58\n",
      "duracion de la clase en minutos: 642\n"
     ]
    }
   ],
   "source": [
    "hora_inicio = int(input(\"hora inicio (horas / 24): \"))\n",
    "minutos_inico = int(input(\"minutos inicio: \"))\n",
    "duracion = int(input(\"duracion de la clase en minutos: \"))"
   ]
  },
  {
   "cell_type": "code",
   "execution_count": 41,
   "metadata": {},
   "outputs": [
    {
     "name": "stdout",
     "output_type": "stream",
     "text": [
      "hora: 34\n",
      "minutos: 40\n"
     ]
    }
   ],
   "source": [
    "#hora de inicio en Minutos\n",
    "hora_inicio_en_minutos = (hora_inicio*60)+minutos_inico\n",
    "\n",
    "#hora de finalizacion en Minutos\n",
    "hora_fin_en_minutos = hora_inicio_en_minutos + duracion\n",
    "\n",
    "#hora fin en horas y minutos\n",
    "\n",
    "#hora\n",
    "hora_fin = int(hora_fin_en_minutos/60)\n",
    "print(f\"hora: {int(hora_fin_en_minutos/60)}\")\n",
    "#minutos\n",
    "\n",
    "minutos_fin = int((((hora_fin_en_minutos+0.5)/60)-int((hora_fin_en_minutos+0.5)/60))*60)\n",
    "print(f\"minutos: {int((((hora_fin_en_minutos+0.5)/60)-int((hora_fin_en_minutos+0.5)/60))*60)}\")\n",
    "#print(f\"minutos: {((hora_fin_en_minutos/60)-int(hora_fin_en_minutos/60))*60}\")"
   ]
  },
  {
   "cell_type": "code",
   "execution_count": 43,
   "metadata": {},
   "outputs": [
    {
     "name": "stdout",
     "output_type": "stream",
     "text": [
      "El curso finaliza: 10:40\n"
     ]
    }
   ],
   "source": [
    "print(f\"El curso finaliza: {hora_fin-24}:{minutos_fin}\")"
   ]
  },
  {
   "cell_type": "code",
   "execution_count": 63,
   "metadata": {},
   "outputs": [
    {
     "name": "stdout",
     "output_type": "stream",
     "text": [
      "49\n"
     ]
    }
   ],
   "source": []
  },
  {
   "cell_type": "code",
   "execution_count": null,
   "metadata": {},
   "outputs": [],
   "source": []
  }
 ],
 "metadata": {
  "kernelspec": {
   "display_name": "Python 3",
   "language": "python",
   "name": "python3"
  },
  "language_info": {
   "codemirror_mode": {
    "name": "ipython",
    "version": 3
   },
   "file_extension": ".py",
   "mimetype": "text/x-python",
   "name": "python",
   "nbconvert_exporter": "python",
   "pygments_lexer": "ipython3",
   "version": "3.7.6"
  }
 },
 "nbformat": 4,
 "nbformat_minor": 4
}
