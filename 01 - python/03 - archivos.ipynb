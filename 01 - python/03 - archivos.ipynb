{
 "cells": [
  {
   "cell_type": "code",
   "execution_count": 1,
   "metadata": {},
   "outputs": [
    {
     "name": "stdout",
     "output_type": "stream",
     "text": [
      "buenas tardesbuenas noches\n"
     ]
    }
   ],
   "source": [
    "try:\n",
    "    path = \"./frases.txt\"\n",
    "    archivo_abierto = open(path) ## 'w' -> write; ,'a' -> append\n",
    "    linea_uno = archivo_abierto.readline()\n",
    "    print(linea_uno)\n",
    "    #archivo_abierto.write(\"buenas noches\")\n",
    "    #lineas = archivo_abierto.readlines()\n",
    "    #print(lineas)\n",
    "    #print(type(lineas))\n",
    "    archivo_abierto.close()\n",
    "except Exception as Error:\n",
    "    print(\"error leyendo el archivo\")"
   ]
  },
  {
   "cell_type": "code",
   "execution_count": null,
   "metadata": {},
   "outputs": [],
   "source": []
  },
  {
   "cell_type": "code",
   "execution_count": null,
   "metadata": {},
   "outputs": [],
   "source": []
  }
 ],
 "metadata": {
  "kernelspec": {
   "display_name": "Python 3",
   "language": "python",
   "name": "python3"
  },
  "language_info": {
   "codemirror_mode": {
    "name": "ipython",
    "version": 3
   },
   "file_extension": ".py",
   "mimetype": "text/x-python",
   "name": "python",
   "nbconvert_exporter": "python",
   "pygments_lexer": "ipython3",
   "version": "3.7.6"
  }
 },
 "nbformat": 4,
 "nbformat_minor": 4
}
