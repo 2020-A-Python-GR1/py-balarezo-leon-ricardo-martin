{
 "cells": [
  {
   "cell_type": "markdown",
   "metadata": {},
   "source": [
    "# Título 1\n",
    "## Título 2\n",
    "![alt text](https://github.com/adam-p/markdown-here/raw/master/src/common/images/icon48.png \"Logo Title Text 1\")"
   ]
  },
  {
   "cell_type": "code",
   "execution_count": 5,
   "metadata": {},
   "outputs": [
    {
     "name": "stdout",
     "output_type": "stream",
     "text": [
      "Hola Mundo\n"
     ]
    }
   ],
   "source": [
    "print(\"Hola Mundo\")"
   ]
  },
  {
   "cell_type": "code",
   "execution_count": 3,
   "metadata": {},
   "outputs": [
    {
     "name": "stdout",
     "output_type": "stream",
     "text": [
      "Hola Mundo\n"
     ]
    }
   ],
   "source": [
    "print(\"Hola Mundo\")"
   ]
  },
  {
   "cell_type": "code",
   "execution_count": 4,
   "metadata": {},
   "outputs": [
    {
     "name": "stdout",
     "output_type": "stream",
     "text": [
      "Hola Mundo\n"
     ]
    }
   ],
   "source": [
    "print(\"Hola Mundo\")"
   ]
  },
  {
   "cell_type": "code",
   "execution_count": 11,
   "metadata": {},
   "outputs": [
    {
     "name": "stdout",
     "output_type": "stream",
     "text": [
      "<class 'int'>\n",
      "<class 'float'>\n",
      "<class 'str'>\n",
      "<class 'str'>\n",
      "<class 'str'>\n",
      "<class 'bool'>\n",
      "<class 'bool'>\n",
      "<class 'NoneType'>\n"
     ]
    }
   ],
   "source": [
    "# NO TIPADO\n",
    "# Variables Primitivas\n",
    "entero = 4\n",
    "decimales = 1.1\n",
    "nombre = \"Ricardo\"\n",
    "segundo_nombre = \"Martin\" # segundoNombre X -> MAL\n",
    "apellido = \"Balarezo\"\n",
    "casado = False\n",
    "estudiante = True\n",
    "hijos = None  # vacio\n",
    "\n",
    "print(type(entero))\n",
    "print(type(decimales))\n",
    "print(type(nombre))\n",
    "print(type(segundo_nombre))\n",
    "print(type(apellido))\n",
    "print(type(casado))\n",
    "print(type(estudiante))\n",
    "print(type(hijos))\n"
   ]
  },
  {
   "cell_type": "code",
   "execution_count": 12,
   "metadata": {},
   "outputs": [
    {
     "name": "stdout",
     "output_type": "stream",
     "text": [
      "Lorem Ipsum es simplemente el texto de relleno de las imprentas y archivos de texto.\n",
      "Lorem Ipsum ha sido el texto de relleno estándar de las industrias desde el año 1500, cuando un impresor \n",
      "(N. del T. persona que se dedica a la imprenta) desconocido usó una galería de textos y los mezcló de tal \n",
      "manera que logró hacer un libro de textos especimen. No sólo sobrevivió 500 años, sino que tambien ingresó\n",
      "como texto de relleno en documentos electrónicos, quedando esencialmente igual al original. Fue popularizado\n",
      "en los 60s con la creación de las hojas \"Letraset\", las cuales contenian pasajes de Lorem Ipsum, y más \n",
      "recientemente con software de autoedición, como por ejemplo Aldus PageMaker, el cual incluye versiones de Lorem Ipsum\n"
     ]
    }
   ],
   "source": [
    "#Cadena de texo extensa\n",
    "cadena_de_texto = \"\"\"Lorem Ipsum es simplemente el texto de relleno de las imprentas y archivos de texto.\n",
    "Lorem Ipsum ha sido el texto de relleno estándar de las industrias desde el año 1500, cuando un impresor \n",
    "(N. del T. persona que se dedica a la imprenta) desconocido usó una galería de textos y los mezcló de tal \n",
    "manera que logró hacer un libro de textos especimen. No sólo sobrevivió 500 años, sino que tambien ingresó\n",
    "como texto de relleno en documentos electrónicos, quedando esencialmente igual al original. Fue popularizado\n",
    "en los 60s con la creación de las hojas \"Letraset\", las cuales contenian pasajes de Lorem Ipsum, y más \n",
    "recientemente con software de autoedición, como por ejemplo Aldus PageMaker, el cual incluye versiones de Lorem Ipsum\"\"\"\n",
    "\n",
    "print(cadena_de_texto)"
   ]
  },
  {
   "cell_type": "code",
   "execution_count": 6,
   "metadata": {},
   "outputs": [
    {
     "name": "stdout",
     "output_type": "stream",
     "text": [
      "Ricardo\n",
      "Ricardo\n"
     ]
    }
   ],
   "source": [
    "print(entero)\n",
    "entero = decimales\n",
    "entero = hijos\n",
    "entero = casado\n",
    "entero = nombre\n",
    "print(entero)"
   ]
  },
  {
   "cell_type": "code",
   "execution_count": 13,
   "metadata": {},
   "outputs": [
    {
     "name": "stdout",
     "output_type": "stream",
     "text": [
      "truty\n",
      "flasy\n",
      "con numeros\n",
      "truty\n",
      "con numeros\n",
      "truty\n",
      "con numeros\n",
      "flasy\n",
      "con tuplas\n",
      "flasy\n",
      "truty\n",
      "con Listas\n",
      "flasy\n",
      "truty\n",
      "con Diccionario\n",
      "flasy\n",
      "truty\n"
     ]
    }
   ],
   "source": [
    "# condiciones\n",
    "# Truty - Falsy\n",
    "\n",
    "tuplas = (1,2,3) # son arreglos que no se pueden modificar\n",
    "lista = [] # son arreglos uqe SI se pueden modificar\n",
    "diccionario = {\n",
    "    \"nombre\":\"Martin\"\n",
    "}\n",
    "\n",
    "if('Martin'):     #Truty\n",
    "    print('truty')\n",
    "else:\n",
    "    print('flasy')\n",
    "\n",
    "    \n",
    "if(''):     #Truty\n",
    "    print('truty')\n",
    "else:\n",
    "    print('flasy')\n",
    "    \n",
    "\n",
    "print('con numeros')\n",
    "if(1):     #Truty\n",
    "    print('truty')\n",
    "else:\n",
    "    print('flasy')\n",
    "    \n",
    "    \n",
    "print('con numeros')\n",
    "if(-1):     #Truty\n",
    "    print('truty')\n",
    "else:\n",
    "    print('flasy')\n",
    "    \n",
    "print('con numeros')\n",
    "if(0):     #Falsy\n",
    "    print('truty')\n",
    "else:\n",
    "    print('flasy')\n",
    "    \n",
    "print('con tuplas')\n",
    "if(()):     #Falsy\n",
    "    print('truty')\n",
    "else:\n",
    "    print('flasy')\n",
    "    \n",
    "if((1,2,3)):     #Trury\n",
    "    print('truty')\n",
    "else:\n",
    "    print('flasy')\n",
    "    \n",
    "print('con Listas')\n",
    "if([]):     #Falsy\n",
    "    print('truty')\n",
    "else:\n",
    "    print('flasy')\n",
    "    \n",
    "if([1,2,3]):     #Trury\n",
    "    print('truty')\n",
    "else:\n",
    "    print('flasy')\n",
    "    \n",
    "\n",
    "    \n",
    "print('con Diccionario')\n",
    "if({}):     #Falsy\n",
    "    print('truty')\n",
    "else:\n",
    "    print('flasy')\n",
    "    \n",
    "if({nombre: \"Martin\"}):     #Trury\n",
    "    print('truty')\n",
    "else:\n",
    "    print('flasy')\n"
   ]
  },
  {
   "cell_type": "code",
   "execution_count": null,
   "metadata": {},
   "outputs": [],
   "source": []
  }
 ],
 "metadata": {
  "kernelspec": {
   "display_name": "Python 3",
   "language": "python",
   "name": "python3"
  },
  "language_info": {
   "codemirror_mode": {
    "name": "ipython",
    "version": 3
   },
   "file_extension": ".py",
   "mimetype": "text/x-python",
   "name": "python",
   "nbconvert_exporter": "python",
   "pygments_lexer": "ipython3",
   "version": "3.7.6"
  }
 },
 "nbformat": 4,
 "nbformat_minor": 4
}
