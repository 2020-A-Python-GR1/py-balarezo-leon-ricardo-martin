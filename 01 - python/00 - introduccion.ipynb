{
 "cells": [
  {
   "cell_type": "markdown",
   "metadata": {},
   "source": [
    "# Título 1\n",
    "## Título 2\n",
    "![alt text](https://github.com/adam-p/markdown-here/raw/master/src/common/images/icon48.png \"Logo Title Text 1\")"
   ]
  },
  {
   "cell_type": "code",
   "execution_count": 5,
   "metadata": {},
   "outputs": [
    {
     "name": "stdout",
     "output_type": "stream",
     "text": [
      "Hola Mundo\n"
     ]
    }
   ],
   "source": [
    "print(\"Hola Mundo\")"
   ]
  },
  {
   "cell_type": "code",
   "execution_count": 3,
   "metadata": {},
   "outputs": [
    {
     "name": "stdout",
     "output_type": "stream",
     "text": [
      "Hola Mundo\n"
     ]
    }
   ],
   "source": [
    "print(\"Hola Mundo\")"
   ]
  },
  {
   "cell_type": "code",
   "execution_count": 4,
   "metadata": {},
   "outputs": [
    {
     "name": "stdout",
     "output_type": "stream",
     "text": [
      "Hola Mundo\n"
     ]
    }
   ],
   "source": [
    "print(\"Hola Mundo\")"
   ]
  },
  {
   "cell_type": "code",
   "execution_count": 11,
   "metadata": {},
   "outputs": [
    {
     "name": "stdout",
     "output_type": "stream",
     "text": [
      "<class 'int'>\n",
      "<class 'float'>\n",
      "<class 'str'>\n",
      "<class 'str'>\n",
      "<class 'str'>\n",
      "<class 'bool'>\n",
      "<class 'bool'>\n",
      "<class 'NoneType'>\n"
     ]
    }
   ],
   "source": [
    "# NO TIPADO\n",
    "# Variables Primitivas\n",
    "entero = 4\n",
    "decimales = 1.1\n",
    "nombre = \"Ricardo\"\n",
    "segundo_nombre = \"Martin\" # segundoNombre X -> MAL\n",
    "apellido = \"Balarezo\"\n",
    "casado = False\n",
    "estudiante = True\n",
    "hijos = None  # vacio\n",
    "\n",
    "print(type(entero))\n",
    "print(type(decimales))\n",
    "print(type(nombre))\n",
    "print(type(segundo_nombre))\n",
    "print(type(apellido))\n",
    "print(type(casado))\n",
    "print(type(estudiante))\n",
    "print(type(hijos))\n"
   ]
  },
  {
   "cell_type": "code",
   "execution_count": 12,
   "metadata": {},
   "outputs": [
    {
     "name": "stdout",
     "output_type": "stream",
     "text": [
      "Lorem Ipsum es simplemente el texto de relleno de las imprentas y archivos de texto.\n",
      "Lorem Ipsum ha sido el texto de relleno estándar de las industrias desde el año 1500, cuando un impresor \n",
      "(N. del T. persona que se dedica a la imprenta) desconocido usó una galería de textos y los mezcló de tal \n",
      "manera que logró hacer un libro de textos especimen. No sólo sobrevivió 500 años, sino que tambien ingresó\n",
      "como texto de relleno en documentos electrónicos, quedando esencialmente igual al original. Fue popularizado\n",
      "en los 60s con la creación de las hojas \"Letraset\", las cuales contenian pasajes de Lorem Ipsum, y más \n",
      "recientemente con software de autoedición, como por ejemplo Aldus PageMaker, el cual incluye versiones de Lorem Ipsum\n"
     ]
    }
   ],
   "source": [
    "#Cadena de texo extensa\n",
    "cadena_de_texto = \"\"\"Lorem Ipsum es simplemente el texto de relleno de las imprentas y archivos de texto.\n",
    "Lorem Ipsum ha sido el texto de relleno estándar de las industrias desde el año 1500, cuando un impresor \n",
    "(N. del T. persona que se dedica a la imprenta) desconocido usó una galería de textos y los mezcló de tal \n",
    "manera que logró hacer un libro de textos especimen. No sólo sobrevivió 500 años, sino que tambien ingresó\n",
    "como texto de relleno en documentos electrónicos, quedando esencialmente igual al original. Fue popularizado\n",
    "en los 60s con la creación de las hojas \"Letraset\", las cuales contenian pasajes de Lorem Ipsum, y más \n",
    "recientemente con software de autoedición, como por ejemplo Aldus PageMaker, el cual incluye versiones de Lorem Ipsum\"\"\"\n",
    "\n",
    "print(cadena_de_texto)"
   ]
  },
  {
   "cell_type": "code",
   "execution_count": 6,
   "metadata": {},
   "outputs": [
    {
     "name": "stdout",
     "output_type": "stream",
     "text": [
      "Ricardo\n",
      "Ricardo\n"
     ]
    }
   ],
   "source": [
    "print(entero)\n",
    "entero = decimales\n",
    "entero = hijos\n",
    "entero = casado\n",
    "entero = nombre\n",
    "print(entero)"
   ]
  },
  {
   "cell_type": "code",
   "execution_count": 13,
   "metadata": {},
   "outputs": [
    {
     "name": "stdout",
     "output_type": "stream",
     "text": [
      "truty\n",
      "flasy\n",
      "con numeros\n",
      "truty\n",
      "con numeros\n",
      "truty\n",
      "con numeros\n",
      "flasy\n",
      "con tuplas\n",
      "flasy\n",
      "truty\n",
      "con Listas\n",
      "flasy\n",
      "truty\n",
      "con Diccionario\n",
      "flasy\n",
      "truty\n"
     ]
    }
   ],
   "source": [
    "# condiciones\n",
    "# Truty - Falsy\n",
    "\n",
    "tuplas = (1,2,3) # son arreglos que no se pueden modificar\n",
    "lista = [] # son arreglos uqe SI se pueden modificar\n",
    "diccionario = {\n",
    "    \"nombre\":\"Martin\"\n",
    "}\n",
    "\n",
    "if('Martin'):     #Truty\n",
    "    print('truty')\n",
    "else:\n",
    "    print('flasy')\n",
    "\n",
    "    \n",
    "if(''):     #Truty\n",
    "    print('truty')\n",
    "else:\n",
    "    print('flasy')\n",
    "    \n",
    "\n",
    "print('con numeros')\n",
    "if(1):     #Truty\n",
    "    print('truty')\n",
    "else:\n",
    "    print('flasy')\n",
    "    \n",
    "    \n",
    "print('con numeros')\n",
    "if(-1):     #Truty\n",
    "    print('truty')\n",
    "else:\n",
    "    print('flasy')\n",
    "    \n",
    "print('con numeros')\n",
    "if(0):     #Falsy\n",
    "    print('truty')\n",
    "else:\n",
    "    print('flasy')\n",
    "    \n",
    "print('con tuplas')\n",
    "if(()):     #Falsy\n",
    "    print('truty')\n",
    "else:\n",
    "    print('flasy')\n",
    "    \n",
    "if((1,2,3)):     #Trury\n",
    "    print('truty')\n",
    "else:\n",
    "    print('flasy')\n",
    "    \n",
    "print('con Listas')\n",
    "if([]):     #Falsy\n",
    "    print('truty')\n",
    "else:\n",
    "    print('flasy')\n",
    "    \n",
    "if([1,2,3]):     #Trury\n",
    "    print('truty')\n",
    "else:\n",
    "    print('flasy')\n",
    "    \n",
    "\n",
    "    \n",
    "print('con Diccionario')\n",
    "if({}):     #Falsy\n",
    "    print('truty')\n",
    "else:\n",
    "    print('flasy')\n",
    "    \n",
    "if({nombre: \"Martin\"}):     #Trury\n",
    "    print('truty')\n",
    "else:\n",
    "    print('flasy')\n",
    "    \n",
    "    \n",
    "\n"
   ]
  },
  {
   "cell_type": "code",
   "execution_count": 18,
   "metadata": {},
   "outputs": [
    {
     "name": "stdout",
     "output_type": "stream",
     "text": [
      "Definir Arreglo\n"
     ]
    }
   ],
   "source": [
    "print('Definir Arreglo')\n",
    "\n",
    "arreglo = [1, 2, 3, 4, 5, 6, 7, 8, 9, 10]\n"
   ]
  },
  {
   "cell_type": "code",
   "execution_count": 32,
   "metadata": {},
   "outputs": [
    {
     "data": {
      "text/plain": [
       "(6, 7, 8, 9)"
      ]
     },
     "execution_count": 32,
     "metadata": {},
     "output_type": "execute_result"
    }
   ],
   "source": [
    "arreglo[0:3]\n",
    "arreglo[5:] # Desde el indice 5 hasta el final\n",
    "arreglo[:7] # Desde el inicio hasta el indice 6\n",
    "arreglo[-10] # Empieza desde el Final\n",
    "arreglo[3:-2]\n",
    "arreglo[-8:2]\n",
    "arreglo[-4:-1]\n",
    "arreglo[-7:]\n",
    "arreglo[:-3]\n",
    "arreglo[:]\n",
    "\n",
    "\n",
    "arregloTupla = (1,2,3,4,5,6,7,8,9,0)\n",
    "\n",
    "arregloTupla[5:9]\n",
    "\n"
   ]
  },
  {
   "cell_type": "code",
   "execution_count": 37,
   "metadata": {},
   "outputs": [
    {
     "data": {
      "text/plain": [
       "'Martin'"
      ]
     },
     "execution_count": 37,
     "metadata": {},
     "output_type": "execute_result"
    }
   ],
   "source": [
    "diccionario = {\n",
    "    \"nombre\":\"Martin\",\n",
    "    \"apellido\":\"Balarezo\",\n",
    "    \"sueldo\":1.2\n",
    "}\n",
    "\n",
    "diccionario[\"nombre\"]\n",
    "\n"
   ]
  },
  {
   "cell_type": "code",
   "execution_count": 38,
   "metadata": {},
   "outputs": [
    {
     "data": {
      "text/plain": [
       "True"
      ]
     },
     "execution_count": 38,
     "metadata": {},
     "output_type": "execute_result"
    }
   ],
   "source": [
    "10 in arreglo"
   ]
  },
  {
   "cell_type": "code",
   "execution_count": 39,
   "metadata": {},
   "outputs": [
    {
     "data": {
      "text/plain": [
       "10"
      ]
     },
     "execution_count": 39,
     "metadata": {},
     "output_type": "execute_result"
    }
   ],
   "source": [
    "len(arreglo)"
   ]
  },
  {
   "cell_type": "code",
   "execution_count": 47,
   "metadata": {},
   "outputs": [
    {
     "data": {
      "text/plain": [
       "True"
      ]
     },
     "execution_count": 47,
     "metadata": {},
     "output_type": "execute_result"
    }
   ],
   "source": [
    "\"nombre\" in diccionario # para diccionarios\n",
    "                        # se debe trabajar con las llaves"
   ]
  },
  {
   "cell_type": "code",
   "execution_count": 59,
   "metadata": {},
   "outputs": [],
   "source": [
    "#arregloTupla[0]\n",
    "arreglo[0] = 1\n"
   ]
  },
  {
   "cell_type": "code",
   "execution_count": 54,
   "metadata": {},
   "outputs": [
    {
     "data": {
      "text/plain": [
       "2"
      ]
     },
     "execution_count": 54,
     "metadata": {},
     "output_type": "execute_result"
    }
   ],
   "source": [
    "arreglo[0]"
   ]
  },
  {
   "cell_type": "code",
   "execution_count": 55,
   "metadata": {},
   "outputs": [],
   "source": [
    "# pop\n",
    "# append\n",
    "# insert"
   ]
  },
  {
   "cell_type": "code",
   "execution_count": 60,
   "metadata": {},
   "outputs": [
    {
     "name": "stdout",
     "output_type": "stream",
     "text": [
      "1\n",
      "2\n",
      "3\n",
      "4\n",
      "5\n",
      "6\n",
      "7\n",
      "8\n",
      "9\n",
      "10\n"
     ]
    }
   ],
   "source": [
    "for numeroLista in arreglo:\n",
    "    print(numeroLista)"
   ]
  },
  {
   "cell_type": "code",
   "execution_count": 64,
   "metadata": {},
   "outputs": [
    {
     "name": "stdout",
     "output_type": "stream",
     "text": [
      "0\n",
      "1\n",
      "2\n",
      "3\n",
      "4\n",
      "5\n",
      "6\n",
      "7\n",
      "8\n",
      "9\n"
     ]
    }
   ],
   "source": [
    "contador = 0 \n",
    "while contador < 10:\n",
    "    print(contador)\n",
    "    contador += 1"
   ]
  },
  {
   "cell_type": "code",
   "execution_count": 76,
   "metadata": {},
   "outputs": [],
   "source": [
    "martin = {\n",
    "    True: \"Martin\",\n",
    "    False: \"Balarezo\",\n",
    "    1: 12.2,\n",
    "    1.1: 89,\n",
    "    'edad': 27,\n",
    "    \"mascotas\": [{\"nombre\":\"Emma\"}],\n",
    "    None: None\n",
    "}"
   ]
  },
  {
   "cell_type": "code",
   "execution_count": 80,
   "metadata": {},
   "outputs": [],
   "source": [
    "martin['edad'] = 20\n",
    "\n",
    "martin['apellido'] = 'Balarezo'\n",
    "\n",
    "martin[\"mascotas\"][0]['nombre'] = 'Mia'"
   ]
  },
  {
   "cell_type": "code",
   "execution_count": 81,
   "metadata": {},
   "outputs": [
    {
     "data": {
      "text/plain": [
       "{True: 12.2,\n",
       " False: 'Balarezo',\n",
       " 1.1: 89,\n",
       " 'edad': 20,\n",
       " 'mascotas': [{'nombre': 'Mia'}],\n",
       " None: None,\n",
       " 'apellido': 'Balarezo'}"
      ]
     },
     "execution_count": 81,
     "metadata": {},
     "output_type": "execute_result"
    }
   ],
   "source": [
    "martin"
   ]
  },
  {
   "cell_type": "code",
   "execution_count": 83,
   "metadata": {},
   "outputs": [
    {
     "data": {
      "text/plain": [
       "dict_keys([True, False, 1.1, 'edad', 'mascotas', None, 'apellido'])"
      ]
     },
     "execution_count": 83,
     "metadata": {},
     "output_type": "execute_result"
    }
   ],
   "source": [
    "martin.keys()"
   ]
  },
  {
   "cell_type": "code",
   "execution_count": 84,
   "metadata": {},
   "outputs": [
    {
     "data": {
      "text/plain": [
       "dict_values([12.2, 'Balarezo', 89, 20, [{'nombre': 'Mia'}], None, 'Balarezo'])"
      ]
     },
     "execution_count": 84,
     "metadata": {},
     "output_type": "execute_result"
    }
   ],
   "source": [
    "martin.values()"
   ]
  },
  {
   "cell_type": "code",
   "execution_count": 86,
   "metadata": {},
   "outputs": [
    {
     "name": "stdout",
     "output_type": "stream",
     "text": [
      "<class 'dict_values'>\n"
     ]
    }
   ],
   "source": [
    "print(type(martin.values()))"
   ]
  },
  {
   "cell_type": "code",
   "execution_count": 87,
   "metadata": {},
   "outputs": [
    {
     "name": "stdout",
     "output_type": "stream",
     "text": [
      "True\n",
      "False\n",
      "1.1\n",
      "edad\n",
      "mascotas\n",
      "None\n",
      "apellido\n"
     ]
    }
   ],
   "source": [
    "for llave in martin.keys():\n",
    "    print(llave)"
   ]
  },
  {
   "cell_type": "code",
   "execution_count": null,
   "metadata": {},
   "outputs": [],
   "source": []
  }
 ],
 "metadata": {
  "kernelspec": {
   "display_name": "Python 3",
   "language": "python",
   "name": "python3"
  },
  "language_info": {
   "codemirror_mode": {
    "name": "ipython",
    "version": 3
   },
   "file_extension": ".py",
   "mimetype": "text/x-python",
   "name": "python",
   "nbconvert_exporter": "python",
   "pygments_lexer": "ipython3",
   "version": "3.7.6"
  }
 },
 "nbformat": 4,
 "nbformat_minor": 4
}
