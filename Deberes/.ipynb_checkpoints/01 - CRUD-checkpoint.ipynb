{
 "cells": [
  {
   "cell_type": "code",
   "execution_count": 98,
   "metadata": {},
   "outputs": [],
   "source": [
    "##Deber\n",
    "\n"
   ]
  },
  {
   "cell_type": "code",
   "execution_count": null,
   "metadata": {},
   "outputs": [],
   "source": [
    "\n",
    "\n",
    "        "
   ]
  },
  {
   "cell_type": "code",
   "execution_count": 1,
   "metadata": {},
   "outputs": [
    {
     "name": "stdout",
     "output_type": "stream",
     "text": [
      "ingrese un nuevo celular:www\n",
      "Creando nuevo archivo\n",
      "ingrese la marca: asd\n",
      "ingrese el modelo: asd\n",
      "ingrese el precio: asd\n"
     ]
    }
   ],
   "source": [
    "#Funcion CREATE\n",
    "import os\n",
    "def create_celular():\n",
    "    \n",
    "    \n",
    "    input_create_celular = input(\"ingrese un nuevo celular:\")\n",
    "\n",
    "    if os.path.exists(f\"./{input_create_celular}.txt\"):\n",
    "        print(\"El archivo ya existe\")\n",
    "    else: \n",
    "        print(\"Creando nuevo archivo\") \n",
    "        try:\n",
    "            path = f\"./{input_create_celular}.txt\"\n",
    "            archivo_abierto = open(path, 'w') ## w -> write, a -> append\n",
    "            #linea_uno = archivo_abierto.readline()\n",
    "            #print(linea_uno)\n",
    "            archivo_abierto.write(\"Marca: \")\n",
    "            archivo_abierto.write(input(\"ingrese la marca: \"))\n",
    "            archivo_abierto.write(\"\\nModelo: \")\n",
    "            archivo_abierto.write(input(\"ingrese el modelo: \"))\n",
    "            archivo_abierto.write(\"\\nPrecio: \")\n",
    "            archivo_abierto.write(input(\"ingrese el precio: \"))\n",
    "            #create_cel()\n",
    "            #lineas = archivo_abierto.readlines()\n",
    "            #print(lineas)\n",
    "            #print(type(lineas))\n",
    "            archivo_abierto.close()\n",
    "\n",
    "        except Exception as Error:\n",
    "            print(\"Error leyendo el archivo !!!\")\n",
    "\n",
    "\n",
    "create_celular()\n"
   ]
  },
  {
   "cell_type": "code",
   "execution_count": 26,
   "metadata": {},
   "outputs": [
    {
     "name": "stdout",
     "output_type": "stream",
     "text": [
      "buscar celular:bbb\n",
      "Leyendo el fichero\n"
     ]
    }
   ],
   "source": [
    "#Funcion Read\n",
    "\n",
    "import os\n",
    "\n",
    "def read_celular():\n",
    "    input_read_celular = input(\"buscar celular:\")\n",
    "    \n",
    "    if os.path.exists(f\"./{input_read_celular}.txt\"):\n",
    "        print(\"Leyendo el fichero\")\n",
    "        try:\n",
    "            def read_cel():\n",
    "                path = f\"./{input_read_celular}.txt\"\n",
    "                archivo_abierto = open(path)\n",
    "                contenido = archivo_abierto.readlines()\n",
    "                #print(contenido)\n",
    "\n",
    "                archivo_abierto.close()\n",
    "        except Exception as Error:\n",
    "            print(\"Error leyendo el archivo\")\n",
    "        \n",
    "    else: \n",
    "        print(\"No existe el fichero !!!\")\n",
    "    \n",
    "read_celular()"
   ]
  },
  {
   "cell_type": "code",
   "execution_count": null,
   "metadata": {},
   "outputs": [],
   "source": []
  },
  {
   "cell_type": "code",
   "execution_count": null,
   "metadata": {},
   "outputs": [],
   "source": []
  },
  {
   "cell_type": "code",
   "execution_count": null,
   "metadata": {},
   "outputs": [],
   "source": []
  },
  {
   "cell_type": "code",
   "execution_count": null,
   "metadata": {},
   "outputs": [],
   "source": []
  },
  {
   "cell_type": "code",
   "execution_count": 108,
   "metadata": {},
   "outputs": [
    {
     "name": "stdout",
     "output_type": "stream",
     "text": [
      "buscar celular: aa\n"
     ]
    }
   ],
   "source": [
    "#Funcion Update\n",
    "\n",
    "import os\n",
    "\n",
    "input_update_celular = input(\"buscar celular: \")\n",
    "\n",
    "def update_celular():\n",
    "    if os.path.exists(f\"./{input_update_celular}.txt\"):\n",
    "        print(\"Leyendo el fichero\")\n",
    "        def update_cel():\n",
    "            try:\n",
    "                path = f\"./{input_update_celular}.txt\"\n",
    "                archivo_abierto = open(path)\n",
    "                contenido = archivo_abierto.readlines()\n",
    "                print(contenido)\n",
    "                #print(\"Reemplazar Campos:\")\n",
    "                #print(\"Marca: \")\n",
    "                archivo_abierto = open(path,'w')\n",
    "                archivo_abierto.write(\"Marca: \")\n",
    "                archivo_abierto.write(input(\"Marca: \"))\n",
    "                archivo_abierto.write(\"\\nModelo: \")\n",
    "                archivo_abierto.write(input(\"Modelo: \"))\n",
    "                archivo_abierto.write(\"\\nPrecio: \")\n",
    "                archivo_abierto.write(input(\"Precio: \"))\n",
    "                archivo_abierto.close()\n",
    "            except Exception as Error:\n",
    "                print(\"Error leyendo el archivo\")\n",
    "        #update_cel()\n",
    "    else: \n",
    "        print(\"No existe el fichero !!!\")"
   ]
  },
  {
   "cell_type": "code",
   "execution_count": 110,
   "metadata": {},
   "outputs": [
    {
     "name": "stdout",
     "output_type": "stream",
     "text": [
      "buscar celular a borrar:abc\n"
     ]
    }
   ],
   "source": [
    "#Funcion Delete\n",
    "\n",
    "import os\n",
    "\n",
    "input_delete_celular = input(\"buscar celular a borrar:\")\n",
    "def delete_celular():\n",
    "\n",
    "    if os.path.exists(f\"./{input_delete_celular}.txt\"):\n",
    "        def delete_cel():\n",
    "            try:\n",
    "                os.remove(f\"./{input_delete_celular}.txt\")\n",
    "                #path = f\"./{read_celular}.txt\"\n",
    "                #archivo_abierto = open(path)\n",
    "                #contenido = archivo_abierto.readlines()\n",
    "                #print(contenido)\n",
    "                print(\"Archivo eliminado\")\n",
    "            except Exception as Error:\n",
    "                print(\"Error leyendo el archivo\")\n",
    "        delete_cel()\n",
    "    else: \n",
    "        print(\"No existe el fichero !!!\")\n"
   ]
  },
  {
   "cell_type": "code",
   "execution_count": 103,
   "metadata": {},
   "outputs": [
    {
     "name": "stdout",
     "output_type": "stream",
     "text": [
      "DEBER DE OPERACIONES CRUD - BALAREZO MARTIN\n",
      "Seleccione la opcion que desea realizar\n",
      "1. Create\n",
      "2. Read\n",
      "3. Update\n",
      "4. Delete\n"
     ]
    }
   ],
   "source": [
    "print(\"DEBER DE OPERACIONES CRUD - BALAREZO MARTIN\")\n",
    "print(\"Seleccione la opcion que desea realizar\")\n",
    "print(\"1. Create\")\n",
    "print(\"2. Read\")\n",
    "print(\"3. Update\")\n",
    "print(\"4. Delete\")\n",
    "#opcion = input(\"Seleccionar una Opcion: \")\n",
    "#crud(opcion)\n",
    "\n",
    "\n"
   ]
  },
  {
   "cell_type": "code",
   "execution_count": null,
   "metadata": {},
   "outputs": [],
   "source": []
  },
  {
   "cell_type": "code",
   "execution_count": null,
   "metadata": {},
   "outputs": [],
   "source": []
  },
  {
   "cell_type": "code",
   "execution_count": null,
   "metadata": {},
   "outputs": [],
   "source": []
  }
 ],
 "metadata": {
  "kernelspec": {
   "display_name": "Python 3",
   "language": "python",
   "name": "python3"
  },
  "language_info": {
   "codemirror_mode": {
    "name": "ipython",
    "version": 3
   },
   "file_extension": ".py",
   "mimetype": "text/x-python",
   "name": "python",
   "nbconvert_exporter": "python",
   "pygments_lexer": "ipython3",
   "version": "3.7.6"
  }
 },
 "nbformat": 4,
 "nbformat_minor": 4
}
