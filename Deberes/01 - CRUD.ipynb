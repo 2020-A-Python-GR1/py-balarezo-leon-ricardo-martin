{
 "cells": [
  {
   "cell_type": "code",
   "execution_count": 2,
   "metadata": {},
   "outputs": [],
   "source": [
    "##Deber\n",
    "\n"
   ]
  },
  {
   "cell_type": "code",
   "execution_count": 12,
   "metadata": {},
   "outputs": [],
   "source": [
    "#Funcion CREATE\n",
    "import os\n",
    "def create_celular():\n",
    "    \n",
    "    \n",
    "    input_create_celular = input(\"ingrese un nuevo celular:\")\n",
    "\n",
    "    if os.path.exists(f\"./{input_create_celular}.txt\"):\n",
    "        print(\"El archivo ya existe\")\n",
    "    else: \n",
    "        print(\"Creando nuevo archivo\") \n",
    "        try:\n",
    "            path = f\"./{input_create_celular}.txt\"\n",
    "            archivo_abierto = open(path, 'w') ## w -> write, a -> append\n",
    "            #linea_uno = archivo_abierto.readline()\n",
    "            #print(linea_uno)\n",
    "            archivo_abierto.write(\"Marca: \")\n",
    "            archivo_abierto.write(input(\"ingrese la marca: \"))\n",
    "            archivo_abierto.write(\"\\nModelo: \")\n",
    "            archivo_abierto.write(input(\"ingrese el modelo: \"))\n",
    "            archivo_abierto.write(\"\\nPrecio: \")\n",
    "            archivo_abierto.write(input(\"ingrese el precio: \"))\n",
    "            #create_cel()\n",
    "            #lineas = archivo_abierto.readlines()\n",
    "            #print(lineas)\n",
    "            #print(type(lineas))\n",
    "            archivo_abierto.close()\n",
    "\n",
    "        except Exception as Error:\n",
    "            print(\"Error leyendo el archivo !!!\")\n",
    "\n",
    "\n",
    "#create_celular()\n"
   ]
  },
  {
   "cell_type": "code",
   "execution_count": 13,
   "metadata": {},
   "outputs": [],
   "source": [
    "\n",
    "#Funcion Read\n",
    "import os\n",
    "def read_celular():\n",
    "    input_read_celular = input(\"buscar celular:\")\n",
    "    if os.path.exists(f\"./{input_read_celular}.txt\"):\n",
    "        try:\n",
    "            print(\"Leyendo el fichero\")\n",
    "            #print(f\"ingreso: {input_read_celular}.txt\")\n",
    "            path = f\"./{input_read_celular}.txt\"\n",
    "            archivo_abierto = open(path, \"r\")\n",
    "            contenido = archivo_abierto.readlines()\n",
    "            #print(contenido)\n",
    "            #archivo_abierto.close()\n",
    "            print(contenido)\n",
    "        except Exception as Error:\n",
    "            print(\"Error leyendo el archivo\")\n",
    "        \n",
    "    else: \n",
    "        print(\"No existe el fichero !!!\")\n",
    "    \n",
    "\n",
    "#read_celular()"
   ]
  },
  {
   "cell_type": "code",
   "execution_count": 14,
   "metadata": {},
   "outputs": [],
   "source": [
    "#Funcion Update\n",
    "\n",
    "import os\n",
    "def update_celular():\n",
    "    input_update_celular = input(\"buscar celular: \")\n",
    "    if os.path.exists(f\"./{input_update_celular}.txt\"):\n",
    "        print(\"Leyendo el fichero\")\n",
    "        try:\n",
    "            path = f\"./{input_update_celular}.txt\"\n",
    "            archivo_abierto = open(path)\n",
    "            contenido = archivo_abierto.readlines()\n",
    "            print(contenido)\n",
    "            #print(\"Reemplazar Campos:\")\n",
    "            #print(\"Marca: \")\n",
    "            archivo_abierto = open(path,'w')\n",
    "            archivo_abierto.write(\"Marca: \")\n",
    "            archivo_abierto.write(input(\"Marca: \"))\n",
    "            archivo_abierto.write(\"\\nModelo: \")\n",
    "            archivo_abierto.write(input(\"Modelo: \"))\n",
    "            archivo_abierto.write(\"\\nPrecio: \")\n",
    "            archivo_abierto.write(input(\"Precio: \"))\n",
    "            archivo_abierto.close()\n",
    "        except Exception as Error:\n",
    "            print(\"Error leyendo el archivo\")\n",
    "        #update_cel()\n",
    "    else: \n",
    "        print(\"No existe el fichero !!!\")\n",
    "        \n",
    "#update_celular()"
   ]
  },
  {
   "cell_type": "code",
   "execution_count": 15,
   "metadata": {},
   "outputs": [],
   "source": [
    "#Funcion Delete\n",
    "\n",
    "import os\n",
    "def delete_celular():\n",
    "    input_delete_celular = input(\"buscar celular a borrar:\")\n",
    "    if os.path.exists(f\"./{input_delete_celular}.txt\"):\n",
    "        try:\n",
    "            os.remove(f\"./{input_delete_celular}.txt\")\n",
    "            print(\"Archivo eliminado\")\n",
    "        except Exception as Error:\n",
    "            print(\"Error Elimiando el archivo\")\n",
    "    else: \n",
    "        print(\"No existe el fichero !!!\")\n",
    "        \n",
    "#delete_celular()\n"
   ]
  },
  {
   "cell_type": "code",
   "execution_count": 8,
   "metadata": {},
   "outputs": [],
   "source": [
    "def deber(seleccion = \"1\"):\n",
    "    def devolver_seleccion():\n",
    "        \n",
    "        opciones = {\n",
    "            \"1\": create_celular,\n",
    "            \"2\": read_celular,\n",
    "            \"3\": update_celular,\n",
    "            \"4\": delete_celular\n",
    "        }\n",
    "        \n",
    "        return opciones[seleccion]()\n",
    "    \n",
    "    return devolver_seleccion()\n",
    "\n",
    "\n",
    "\n",
    "\n"
   ]
  },
  {
   "cell_type": "code",
   "execution_count": 9,
   "metadata": {},
   "outputs": [
    {
     "name": "stdout",
     "output_type": "stream",
     "text": [
      "DEBER DE OPERACIONES CRUD - BALAREZO MARTIN\n",
      "Seleccione la opcion que desea realizar\n",
      "1. Create\n",
      "2. Read\n",
      "3. Update\n",
      "4. Delete\n"
     ]
    }
   ],
   "source": [
    "def menu():\n",
    "print(\"DEBER DE OPERACIONES CRUD - BALAREZO MARTIN\")\n",
    "print(\"Seleccione la opcion que desea realizar\")\n",
    "print(\"1. Create\")\n",
    "print(\"2. Read\")\n",
    "print(\"3. Update\")\n",
    "print(\"4. Delete\")\n",
    "\n",
    "\n",
    "    opcion = input(\"Opcion N°: \")\n",
    "    if(opcion == \"1\" or opcion == \"2\" or opcion == \"3\" or opcion == \"4\"):\n",
    "        deber(opcion)\n",
    "    else:\n",
    "        print(\"Opcion equivocada\")\n",
    "        menu()\n",
    "\n"
   ]
  },
  {
   "cell_type": "code",
   "execution_count": 11,
   "metadata": {},
   "outputs": [
    {
     "name": "stdout",
     "output_type": "stream",
     "text": [
      "Opcion N°: 2\n",
      "buscar celular:j3\n",
      "Leyendo el fichero\n",
      "['Marca: 123\\n', 'Modelo: 123\\n', 'Precio: 123']\n"
     ]
    }
   ],
   "source": [
    "menu()"
   ]
  },
  {
   "cell_type": "code",
   "execution_count": null,
   "metadata": {},
   "outputs": [],
   "source": []
  }
 ],
 "metadata": {
  "kernelspec": {
   "display_name": "Python 3",
   "language": "python",
   "name": "python3"
  },
  "language_info": {
   "codemirror_mode": {
    "name": "ipython",
    "version": 3
   },
   "file_extension": ".py",
   "mimetype": "text/x-python",
   "name": "python",
   "nbconvert_exporter": "python",
   "pygments_lexer": "ipython3",
   "version": "3.7.6"
  }
 },
 "nbformat": 4,
 "nbformat_minor": 4
}
