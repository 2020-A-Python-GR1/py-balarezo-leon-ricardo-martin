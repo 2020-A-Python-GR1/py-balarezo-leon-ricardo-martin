{
 "cells": [
  {
   "cell_type": "code",
   "execution_count": 6,
   "metadata": {},
   "outputs": [
    {
     "name": "stdout",
     "output_type": "stream",
     "text": [
      "DEBER DE OPERACIONES CRUD - BALAREZO MARTIN\n",
      "Seleccione la opcion que desea realizar\n",
      "1. Create\n",
      "2. Read\n",
      "3. Update\n",
      "4. Delete\n",
      "a\n",
      "selecciono a\n"
     ]
    }
   ],
   "source": [
    "print(\"DEBER DE OPERACIONES CRUD - BALAREZO MARTIN\")\n",
    "print(\"Seleccione la opcion que desea realizar\")\n",
    "print(\"1. Create\")\n",
    "print(\"2. Read\")\n",
    "print(\"3. Update\")\n",
    "print(\"4. Delete\")\n",
    "opcion = input(\"\")\n",
    "\n",
    "\n",
    "\n",
    "crud(opcion)\n"
   ]
  },
  {
   "cell_type": "code",
   "execution_count": 7,
   "metadata": {},
   "outputs": [],
   "source": [
    "def crud(opcion):\n",
    "    \n",
    "    print(f\"selecciono {opcion}\")\n",
    "    nuevo_celular = input(\"ingrese un nuevo celular:\")\n",
    "    #def create():\n",
    "     #   \n",
    "      #  try:\n",
    "       #     path = f\"./{nuevo_celular}.txt\"\n",
    "       #     archivo_abierto = open(path, 'a') ## w -> write, a -> append\n",
    "       #     #linea_uno = archivo_abierto.readline()\n",
    "       #     #print(linea_uno)\n",
    "       #     archivo_abierto.write(\"Samsung J3\")\n",
    "       #     #lineas = archivo_abierto.readlines()\n",
    "       #     #print(lineas)\n",
    "       #     #print(type(lineas))\n",
    "       #     archivo_abierto.close\n",
    "       # except Exception as Error:\n",
    "       #     print(\"error leyendo el archivo\")\n",
    "\n",
    "        "
   ]
  },
  {
   "cell_type": "code",
   "execution_count": 6,
   "metadata": {},
   "outputs": [
    {
     "name": "stdout",
     "output_type": "stream",
     "text": [
      "ingrese un nuevo celular:aaa\n",
      "Creando nuevo archivo\n",
      "ingrese la marca: Samsung\n",
      "ingrese el modelo: j3\n",
      "ingrese el precio: 500\n"
     ]
    }
   ],
   "source": [
    "#Funcion CREATE\n",
    "\n",
    "import os\n",
    "\n",
    "create_celular = input(\"ingrese un nuevo celular:\")\n",
    "\n",
    "if os.path.exists(f\"./{create_celular}.txt\"):\n",
    "    print(\"El archivo ya existe\")\n",
    "else: \n",
    "    print(\"Creando nuevo archivo\")\n",
    "    def create():\n",
    "        try:\n",
    "            path = f\"./{create_celular}.txt\"\n",
    "            archivo_abierto = open(path, 'w') ## w -> write, a -> append\n",
    "            #linea_uno = archivo_abierto.readline()\n",
    "            #print(linea_uno)\n",
    "            archivo_abierto.write(\"Marca: \")\n",
    "            archivo_abierto.write(input(\"ingrese la marca: \"))\n",
    "            archivo_abierto.write(\"\\nModelo: \")\n",
    "            archivo_abierto.write(input(\"ingrese el modelo: \"))\n",
    "            archivo_abierto.write(\"\\nPrecio: \")\n",
    "            archivo_abierto.write(input(\"ingrese el precio: \"))\n",
    "\n",
    "            #lineas = archivo_abierto.readlines()\n",
    "            #print(lineas)\n",
    "            #print(type(lineas))\n",
    "            archivo_abierto.close\n",
    "        except Exception as Error:\n",
    "            print(\"error leyendo el archivo\")\n",
    "    create()\n",
    "\n",
    "\n"
   ]
  },
  {
   "cell_type": "code",
   "execution_count": 23,
   "metadata": {},
   "outputs": [
    {
     "name": "stdout",
     "output_type": "stream",
     "text": [
      "existe el archivo\n"
     ]
    }
   ],
   "source": [
    "#Funcion Read\n",
    "\n",
    "import os\n",
    "\n",
    "read_celular = input(\"buscar celular:\")\n",
    "\n",
    "if os.path.exists(f\"./{create_celular}.txt\"):\n",
    "    print(\"Leyendo el fichero\")\n",
    "    def read():\n",
    "        try:\n",
    "            path = f\"./{create_celular}.txt\""
   ]
  },
  {
   "cell_type": "code",
   "execution_count": null,
   "metadata": {},
   "outputs": [],
   "source": []
  },
  {
   "cell_type": "code",
   "execution_count": null,
   "metadata": {},
   "outputs": [],
   "source": []
  }
 ],
 "metadata": {
  "kernelspec": {
   "display_name": "Python 3",
   "language": "python",
   "name": "python3"
  },
  "language_info": {
   "codemirror_mode": {
    "name": "ipython",
    "version": 3
   },
   "file_extension": ".py",
   "mimetype": "text/x-python",
   "name": "python",
   "nbconvert_exporter": "python",
   "pygments_lexer": "ipython3",
   "version": "3.7.6"
  }
 },
 "nbformat": 4,
 "nbformat_minor": 4
}
