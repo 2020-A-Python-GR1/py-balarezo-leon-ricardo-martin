{
 "cells": [
  {
   "cell_type": "code",
   "execution_count": 14,
   "metadata": {},
   "outputs": [
    {
     "name": "stdout",
     "output_type": "stream",
     "text": [
      "ingrese un nuevo celular:cvbcvb\n",
      "Creando nuevo archivo\n",
      "ingrese la marca: 123\n",
      "ingrese el modelo: 123\n",
      "ingrese el precio: 123\n"
     ]
    }
   ],
   "source": [
    "#Funcion CREATE\n",
    "def create_cel():\n",
    "    try:\n",
    "        path = f\"./{input_create_celular}.txt\"\n",
    "        archivo_abierto = open(path, 'w') ## w -> write, a -> append\n",
    "        #linea_uno = archivo_abierto.readline()\n",
    "        #print(linea_uno)\n",
    "        archivo_abierto.write(\"Marca: \")\n",
    "        archivo_abierto.write(input(\"ingrese la marca: \"))\n",
    "        archivo_abierto.write(\"\\nModelo: \")\n",
    "        archivo_abierto.write(input(\"ingrese el modelo: \"))\n",
    "        archivo_abierto.write(\"\\nPrecio: \")\n",
    "        archivo_abierto.write(input(\"ingrese el precio: \"))\n",
    "        #create_cel()\n",
    "        #lineas = archivo_abierto.readlines()\n",
    "        #print(lineas)\n",
    "        #print(type(lineas))\n",
    "        archivo_abierto.close()\n",
    "\n",
    "    except Exception as Error:\n",
    "        print(\"Error leyendo el archivo !!!\")\n",
    "\n",
    "\n",
    "\n",
    "import os\n",
    "input_create_celular = input(\"ingrese un nuevo celular:\")\n",
    "\n",
    "if os.path.exists(f\"./{input_create_celular}.txt\"):\n",
    "    print(\"El archivo ya existe\")\n",
    "else: \n",
    "    print(\"Creando nuevo archivo\")\n",
    "    create_cel()\n",
    "\n",
    "\n"
   ]
  },
  {
   "cell_type": "code",
   "execution_count": 5,
   "metadata": {},
   "outputs": [
    {
     "name": "stdout",
     "output_type": "stream",
     "text": [
      "Leyendo el fichero\n",
      "['Marca: a\\n', 'Modelo: a\\n', 'Precio: a']\n"
     ]
    }
   ],
   "source": [
    "try:\n",
    "    print(\"Leyendo el fichero\")\n",
    "    #print(f\"ingreso: {input_read_celular}.txt\")\n",
    "    r = f\"./aaa.txt\"\n",
    "    archivo_abierto = open(r)\n",
    "    contenido = archivo_abierto.readlines()\n",
    "    #print(contenido)\n",
    "    #archivo_abierto.close()\n",
    "    print(contenido)\n",
    "except Exception as Error:\n",
    "    print(\"Error leyendo el archivo\")"
   ]
  },
  {
   "cell_type": "code",
   "execution_count": 1,
   "metadata": {},
   "outputs": [
    {
     "name": "stdout",
     "output_type": "stream",
     "text": [
      "Archivo eliminado\n"
     ]
    }
   ],
   "source": [
    "import os\n",
    "try:\n",
    "    os.remove(\"aaa.txt\")\n",
    "    print(\"Archivo eliminado\")\n",
    "except Exception as Error:\n",
    "    print(\"Error elimiando el archivo\")"
   ]
  },
  {
   "cell_type": "code",
   "execution_count": null,
   "metadata": {},
   "outputs": [],
   "source": []
  },
  {
   "cell_type": "code",
   "execution_count": null,
   "metadata": {},
   "outputs": [],
   "source": []
  }
 ],
 "metadata": {
  "kernelspec": {
   "display_name": "Python 3",
   "language": "python",
   "name": "python3"
  },
  "language_info": {
   "codemirror_mode": {
    "name": "ipython",
    "version": 3
   },
   "file_extension": ".py",
   "mimetype": "text/x-python",
   "name": "python",
   "nbconvert_exporter": "python",
   "pygments_lexer": "ipython3",
   "version": "3.7.6"
  }
 },
 "nbformat": 4,
 "nbformat_minor": 4
}
