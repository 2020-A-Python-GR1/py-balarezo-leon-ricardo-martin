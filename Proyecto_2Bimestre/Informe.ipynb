{
 "cells": [
  {
   "cell_type": "markdown",
   "metadata": {},
   "source": [
    "# Proyecto 2do Bimestre\n",
    "\n",
    "## Escuela Politécnca Naciona\n",
    "\n",
    "### Martín Balarezo\n",
    "\n",
    "### 21/09/2020\n",
    "\n",
    "### Proyecto: Análisis de accidentes de tráfico (INEC 2016)\n",
    "\n",
    "#### Introducción:\n",
    "\n",
    "Es una investigación que recopila información de diferentes fuentes: Comisión de Tránsito y Transporte Terrestre; Dirección General de Tránsito; Comisión de Tránsito del Guayas; Empresa de Ferrocarriles del Estado; Dirección de Aviación Civil y Capitanías de Puerto dependientes de la Dirección de la Marina Mercante. Tiene una frecuencia anual y contiene la siguiente información: vehículos motorizados matriculados; accidentes de tránsito y víctimas; transporte ferroviario; transporte aéreo internacional y transporte marítimo internacional. La última publicación corresponde al año 2016. Los resultados se presentan a nivel nacional y provincial.\n"
   ]
  },
  {
   "cell_type": "markdown",
   "metadata": {},
   "source": [
    "\n",
    "#### imports de librerias:"
   ]
  },
  {
   "cell_type": "code",
   "execution_count": 1,
   "metadata": {},
   "outputs": [],
   "source": [
    "import numpy as np\n",
    "import pandas as pd\n",
    "import matplotlib.pyplot as plt\n",
    "import seaborn as sns"
   ]
  },
  {
   "cell_type": "markdown",
   "metadata": {},
   "source": [
    "##### Añadir la base de datos (csv)"
   ]
  },
  {
   "cell_type": "code",
   "execution_count": 2,
   "metadata": {},
   "outputs": [],
   "source": [
    "path_file = 'C:/Users/marti/Documents/py-balarezo-leon-ricardo-martin/Proyecto_2Bimestre/Datos/2016_AccidentesTránsito_BDD.csv'\n",
    "\n",
    "#C:/Users/marti/Documents/py-balarezo-leon-ricardo-martin/Proyecto_2Bimestre/Datos"
   ]
  },
  {
   "cell_type": "code",
   "execution_count": 3,
   "metadata": {},
   "outputs": [],
   "source": [
    "data = pd.read_csv(path_file,sep=',')"
   ]
  },
  {
   "cell_type": "markdown",
   "metadata": {},
   "source": [
    "### Diccionario de Datos:\n"
   ]
  },
  {
   "cell_type": "markdown",
   "metadata": {},
   "source": [
    "| N°\t|   \"Nombre del Campo(Encabezado Columna)\"\t|    Categorías\t|   \t\n",
    "|:-:\t|:-:\t               \t                    |:-:\t        |\n",
    "|\t1   |PROVINCIA   \t                            |     1=AZUAY<br>2=BOLIVAR<br>3=CAÑAR<br>4=CARCHI<br>5=COTOPAXI<br>6=CHIMBORAZO<br>7=EL ORO<br>8=ESMERALDAS<br>9=GUAYAS<br>10=IMBABURA<br>11=LOJA<br>12=LOS RIOS<br>13=MANABI<br>14=MORONA SANTIAGO<br>15=NAPO<br>16=PASTAZA<br>17=PICHINCHA<br>18=TUNGURAHUA<br>19=ZAMORA CHINCHIPE<br>20=GALAPAGOS<br>21=SUCUMBIOS<br>22=ORELLANA<br>23=SANTO DOMINGO DE LOS TSACHILAS<br>24=SANTA ELENA\n",
    "|  2 \t|CANTON                                     |<br><br>0101= CUENCA<br>0102= GIRON<br>0103= GUALACEO<br>0104= NABON<br>0105= PAUTE<br>0106= PUCARA<br>0108= SANTA ISABEL<br>0109= SIGSIG<br>0110= OÑA<br>0111= CHORDELEG<br>0113= SEVILLA DE ORO<br>0114= GUACHAPALA<br>0115= CAMILO PONCE ENRIQUEZ<br>0201= GUARANDA<br>0202= CHILLANES<br>0203= CHIMBO<br>0204= ECHEANDIA<br>0205= SAN MIGUEL<br>0206= CALUMA<br>0207= LAS NAVES<br>0301= AZOGUES<br>0302= BIBLIAN<br>0303= CAÑAR<br>0304= LA TRONCAL<br>0305= EL TAMBO<br>0306= DELEG<br>0307= SUSCAL<br>0401= TULCAN<br>0402= BOLIVAR<br>0403= ESPEJO<br>0404= MIRA<br>0405= MONTUFAR<br>0406= SAN PEDRO DE HUACA<br>0501= LATACUNGA<br>0502= LA MANA<br>0504= PUJILI<br>0505= SALCEDO<br>0506= SAQUISILI<br>0507= SIGCHOS<br>0601= RIOBAMBA<br>0602= ALAUSI<br>0603= COLTA<br>0604= CHAMBO<br>0605= CHUNCHI<br>0606= GUAMOTE<br>0607= GUANO<br>0608= PALLATANGA<br>0609= PENIPE<br>0610= CUMANDA<br>0701= MACHALA<br>0702= ARENILLAS<br>0703= ATAHUALPA<br>0704= BALSAS<br>0705= CHILLA<br>0706= EL GUABO<br>0707= HUAQUILLAS<br>0708= MARCABELI<br>0709= PASAJE<br>0710= PIÑAS<br>0711= PORTOVELO<br>0712= SANTA ROSA<br>0713= ZARUMA<br>0714= LAS LAJAS<br>0801= ESMERALDAS<br>0802= ELOY ALFARO<br>0803= MUISNE<br>0804= QUININDE<br>0805= SAN LORENZO<br>0806= ATACAMES<br>0807= RIOVERDE<br>0901= GUAYAQUIL<br>0902= ALFREDO BAQUERIZO MORENO (JUJAN)<br>0903= BALAO<br>0904= BALZAR<br>0905= COLIMES<br>0906= DAULE<br>0907= DURAN<br>0908= EL EMPALME<br>0909= EL TRIUNFO<br>0910= MILAGRO<br>0911= NARANJAL<br>0912= NARANJITO<br>0913= PALESTINA<br>0914= PEDRO CARBO<br>0916= SAMBORONDON<br>0918= SANTA LUCIA<br>0919= URBINA JADO<br>0920= YAGUACHI<br>0921= PLAYAS<br>0922= SIMON BOLIVAR<br>0923= CORONEL MARCELINO MARIDUEÑA<br>0924= LOMAS DE SARGENTILLO<br>0925= NOBOL<br>0927= GENERAL  ANTONIO ELIZALDE<br>0928= ISIDRO AYORA<br>1001= IBARRA<br>1002= ANTONIO ANTE<br>1003= COTACACHI<br>1004= OTAVALO<br>1005= PIMAMPIRO<br>1006= SAN MIGUEL DE URCUQUI<br>1101= LOJA<br>1102= CALVAS<br>1103= CATAMAYO<br>1104= CELICA<br>1105= CHAGUARPAMBA<br>1106= ESPINDOLA<br>1107= GONZANAMA<br>1108= MACARA<br>1109= PALTAS<br>1110= PUYANGO<br>1111= SARAGURO<br>1113= ZAPOTILLO<br>1114= PINDAL<br>1116= OLMEDO<br>1201= BABAHOYO<br>1202= BABA<br>1203= MONTALVO<br>1204= PUEBLOVIEJO<br>1205= QUEVEDO<br>1206= URDANETA<br>1207= VENTANAS<br>1208= VINCES<br>1209= PALENQUE<br>1210= BUENA FE<br>1211= VALENCIA<br>1212= MOCACHE<br>1213= QUINSALOMA<br>1301= PORTOVIEJO<br>1303= CHONE<br>1304= EL CARMEN<br>1305= FLAVIO ALFARO<br>1306= JIPIJAPA<br>1308= MANTA<br>1309= MONTECRISTI<br>1310= PAJAN<br>1311= PICHINCHA<br>1312= ROCAFUERTE<br>1313= SANTA ANA<br>1314= SUCRE<br>1315= TOSAGUA<br>1316= 24 DE MAYO<br>1317= PEDERNALES<br>1318= OLMEDO<br>1320= JAMA<br>1321= JARAMIJO<br>1322= SAN VICENTE<br>1401= MORONA<br>1402= GUALAQUIZA<br>1403= LIMON INDANZA<br>1404= PALORA<br>1405= SANTIAGO<br>1406= SUCUA<br>1407= HUAMBOYA<br>1408= SAN JUAN BOSCO<br>1410= LOGROÑO<br>1412= TIWINTZA<br>1501= TENA<br>1503= ARCHIDONA<br>1504= EL CHACO<br>1507= QUIJOS<br>1509= CARLOS JULIO AROSEMENA TOLA<br>1601= PASTAZA<br>1602= MERA<br>1603= SANTA CLARA<br>1604= ARAJUNO<br>1701= DISTRITO METROPOLITANO DE QUITO<br>1702= CAYAMBE<br>1703= MEJIA<br>1704= PEDRO MONCAYO<br>1705= RUMIÑAHUI<br>1707= SAN MIGUEL DE LOS BANCOS<br>1708= PEDRO VICENTE MALDONADO<br>1709= PUERTO QUITO<br>1801= AMBATO<br>1802= BAÑOS DE AGUA SANTA<br>1803= CEVALLOS<br>1804= MOCHA<br>1805= PATATE<br>1806= QUERO<br>1807= PELILEO<br>1808= PILLARO<br>1809= TISALEO<br>1901= ZAMORA<br>1902= CHINCHIPE<br>1903= NANGARITZA<br>1905= YANTZAZA<br>1906= EL PANGUI<br>1907= CENTINELA DEL CONDOR<br>1908= PALANDA<br>1909= PAQUISHA<br>2001= SAN CRISTOBAL<br>2003= SANTA CRUZ<br>2101= LAGO AGRIO<br>2102= GONZALO PIZARRO<br>2103= PUTUMAYO<br>2104= SHUSHUFINDI<br>2105= SUCUMBIOS<br>2106= CASCALES<br>2201= ORELLANA<br>2203= LA JOYA DE LOS SACHAS<br>2204= LORETO<br>2301= SANTO DOMINGO<br>2302= LA CONCORDIA<br>2401= SANTA ELENA<br>2402= LA LIBERTAD<br>2403= SALINAS<br>9999= NO DETERMINADO\t|  \t\n",
    "|3   \t|MES                                        |   \t  <br><br>1= ENERO<br>2= FEBRERO<br>3= MARZO<br>4= ABRIL<br>5= MAYO<br>6= JUNIO<br>7= JULIO<br>8= AGOSTO<br>9= SEPTIEMBRE<br>10= OCTUBRE<br>11= NOVIEMBRE<br>12= DICIEMBRE      |   \n",
    "|4   \t|DIA                                       |   \t  <br><br>1= LUNES<br>2= MARTES<br>3= MIERCOLES<br>4= JUEVES<br>5= VIERNES<br>6= SABADO<br>7= DOMINGO      | \n",
    "|5   \t|HORA                                        |   \t  <br><br>0= 00:00 A 00:59<br>1= 01:00 A 01:59<br>2= 02:00 A 02:59<br>3= 03:00 A 03:59<br>4= 04:00 A 04:59<br>5= 05:00 A 05:59<br>6= 06:00 A 06:59<br>7= 07:00 A 07:59<br>8= 08:00 A 08:59<br>9= 09:00 A 09:59<br>10= 10:00 A 10:59<br>11= 11:00 A 11:59<br>12= 12:00 A 12:59<br>13= 13:00 A 13:59<br>14= 14:00 A 14:59<br>15= 15:00 A 15:59<br>16= 16:00 A 16:59<br>17= 17:00 A 17:59<br>18= 18:00 A 18:59<br>19= 19:00 A 19:59<br>20= 20:00 A 20:59<br>21= 21:00 A 21:59<br>22= 22:00 A 22:59<br>23= 23:00 A 23:59\n",
    "      |  \n",
    "|6   \t|CLASE                                        |   \t  <br><br>1= ATROPELLOS<br>2= CAÍDA PASAJEROS<br>3= CHOQUES<br>4= ESTRELLAMIENTOS<br>5= ROZAMIENTOS<br>6= VOLCAMIENTOS<br>7= PÉRDIDA DE PISTA<br>8= OTRO   |  \n",
    "|7   \t|CAUSA                                       |   \t  <br><br>1= EMBRIAGUEZ O DROGA<br>2= MAL REBASAMIENTO INVADIR CARRIL<br>3= EXCESO VELOCIDAD<br>4= IMPERICIA E IMPRUDDENCIA DEL CONDUCTOR<br>5= IMPRUDENCIA  DEL PEATÓN<br>6= DAÑOS MECÁNICOS<br>7= NO RESPETA LAS SEÑALES DE TRÁNSITO<br>8= FACTORES CLIMÁTICOS<br>9= MAL ESTADO DE LA VÍA<br>10= OTRAS CAUSAS\n",
    "      |  \n",
    "\n",
    "\n",
    "\n"
   ]
  },
  {
   "cell_type": "markdown",
   "metadata": {},
   "source": [
    "### DATASET:"
   ]
  },
  {
   "cell_type": "code",
   "execution_count": 4,
   "metadata": {},
   "outputs": [
    {
     "data": {
      "text/html": [
       "<div>\n",
       "<style scoped>\n",
       "    .dataframe tbody tr th:only-of-type {\n",
       "        vertical-align: middle;\n",
       "    }\n",
       "\n",
       "    .dataframe tbody tr th {\n",
       "        vertical-align: top;\n",
       "    }\n",
       "\n",
       "    .dataframe thead th {\n",
       "        text-align: right;\n",
       "    }\n",
       "</style>\n",
       "<table border=\"1\" class=\"dataframe\">\n",
       "  <thead>\n",
       "    <tr style=\"text-align: right;\">\n",
       "      <th></th>\n",
       "      <th>PROVINCIA</th>\n",
       "      <th>CANTON</th>\n",
       "      <th>MES</th>\n",
       "      <th>DIA</th>\n",
       "      <th>HORA</th>\n",
       "      <th>CLASE</th>\n",
       "      <th>CAUSA</th>\n",
       "      <th>ZONA</th>\n",
       "      <th>NUM_LESIONADO</th>\n",
       "      <th>NUM_FALLECIDO</th>\n",
       "      <th>TOTAL_VICTIMAS</th>\n",
       "    </tr>\n",
       "  </thead>\n",
       "  <tbody>\n",
       "    <tr>\n",
       "      <th>0</th>\n",
       "      <td>18</td>\n",
       "      <td>1801</td>\n",
       "      <td>1</td>\n",
       "      <td>5</td>\n",
       "      <td>4</td>\n",
       "      <td>4</td>\n",
       "      <td>1</td>\n",
       "      <td>1</td>\n",
       "      <td>0</td>\n",
       "      <td>0</td>\n",
       "      <td>0</td>\n",
       "    </tr>\n",
       "    <tr>\n",
       "      <th>1</th>\n",
       "      <td>18</td>\n",
       "      <td>1801</td>\n",
       "      <td>1</td>\n",
       "      <td>5</td>\n",
       "      <td>14</td>\n",
       "      <td>4</td>\n",
       "      <td>1</td>\n",
       "      <td>1</td>\n",
       "      <td>0</td>\n",
       "      <td>0</td>\n",
       "      <td>0</td>\n",
       "    </tr>\n",
       "    <tr>\n",
       "      <th>2</th>\n",
       "      <td>18</td>\n",
       "      <td>1801</td>\n",
       "      <td>1</td>\n",
       "      <td>5</td>\n",
       "      <td>6</td>\n",
       "      <td>3</td>\n",
       "      <td>1</td>\n",
       "      <td>2</td>\n",
       "      <td>0</td>\n",
       "      <td>0</td>\n",
       "      <td>0</td>\n",
       "    </tr>\n",
       "    <tr>\n",
       "      <th>3</th>\n",
       "      <td>18</td>\n",
       "      <td>1801</td>\n",
       "      <td>1</td>\n",
       "      <td>5</td>\n",
       "      <td>11</td>\n",
       "      <td>4</td>\n",
       "      <td>1</td>\n",
       "      <td>1</td>\n",
       "      <td>0</td>\n",
       "      <td>0</td>\n",
       "      <td>0</td>\n",
       "    </tr>\n",
       "    <tr>\n",
       "      <th>4</th>\n",
       "      <td>18</td>\n",
       "      <td>1801</td>\n",
       "      <td>1</td>\n",
       "      <td>5</td>\n",
       "      <td>22</td>\n",
       "      <td>4</td>\n",
       "      <td>10</td>\n",
       "      <td>2</td>\n",
       "      <td>3</td>\n",
       "      <td>0</td>\n",
       "      <td>3</td>\n",
       "    </tr>\n",
       "    <tr>\n",
       "      <th>...</th>\n",
       "      <td>...</td>\n",
       "      <td>...</td>\n",
       "      <td>...</td>\n",
       "      <td>...</td>\n",
       "      <td>...</td>\n",
       "      <td>...</td>\n",
       "      <td>...</td>\n",
       "      <td>...</td>\n",
       "      <td>...</td>\n",
       "      <td>...</td>\n",
       "      <td>...</td>\n",
       "    </tr>\n",
       "    <tr>\n",
       "      <th>30264</th>\n",
       "      <td>17</td>\n",
       "      <td>1701</td>\n",
       "      <td>12</td>\n",
       "      <td>6</td>\n",
       "      <td>22</td>\n",
       "      <td>3</td>\n",
       "      <td>1</td>\n",
       "      <td>1</td>\n",
       "      <td>0</td>\n",
       "      <td>0</td>\n",
       "      <td>0</td>\n",
       "    </tr>\n",
       "    <tr>\n",
       "      <th>30265</th>\n",
       "      <td>17</td>\n",
       "      <td>1701</td>\n",
       "      <td>12</td>\n",
       "      <td>6</td>\n",
       "      <td>17</td>\n",
       "      <td>7</td>\n",
       "      <td>3</td>\n",
       "      <td>1</td>\n",
       "      <td>1</td>\n",
       "      <td>0</td>\n",
       "      <td>1</td>\n",
       "    </tr>\n",
       "    <tr>\n",
       "      <th>30266</th>\n",
       "      <td>17</td>\n",
       "      <td>1701</td>\n",
       "      <td>12</td>\n",
       "      <td>6</td>\n",
       "      <td>5</td>\n",
       "      <td>4</td>\n",
       "      <td>3</td>\n",
       "      <td>2</td>\n",
       "      <td>0</td>\n",
       "      <td>0</td>\n",
       "      <td>0</td>\n",
       "    </tr>\n",
       "    <tr>\n",
       "      <th>30267</th>\n",
       "      <td>17</td>\n",
       "      <td>1701</td>\n",
       "      <td>12</td>\n",
       "      <td>6</td>\n",
       "      <td>18</td>\n",
       "      <td>3</td>\n",
       "      <td>4</td>\n",
       "      <td>1</td>\n",
       "      <td>0</td>\n",
       "      <td>0</td>\n",
       "      <td>0</td>\n",
       "    </tr>\n",
       "    <tr>\n",
       "      <th>30268</th>\n",
       "      <td>17</td>\n",
       "      <td>1701</td>\n",
       "      <td>12</td>\n",
       "      <td>6</td>\n",
       "      <td>11</td>\n",
       "      <td>5</td>\n",
       "      <td>4</td>\n",
       "      <td>1</td>\n",
       "      <td>0</td>\n",
       "      <td>0</td>\n",
       "      <td>0</td>\n",
       "    </tr>\n",
       "  </tbody>\n",
       "</table>\n",
       "<p>30269 rows × 11 columns</p>\n",
       "</div>"
      ],
      "text/plain": [
       "       PROVINCIA  CANTON  MES  DIA  HORA  CLASE  CAUSA  ZONA  NUM_LESIONADO  \\\n",
       "0             18    1801    1    5     4      4      1     1              0   \n",
       "1             18    1801    1    5    14      4      1     1              0   \n",
       "2             18    1801    1    5     6      3      1     2              0   \n",
       "3             18    1801    1    5    11      4      1     1              0   \n",
       "4             18    1801    1    5    22      4     10     2              3   \n",
       "...          ...     ...  ...  ...   ...    ...    ...   ...            ...   \n",
       "30264         17    1701   12    6    22      3      1     1              0   \n",
       "30265         17    1701   12    6    17      7      3     1              1   \n",
       "30266         17    1701   12    6     5      4      3     2              0   \n",
       "30267         17    1701   12    6    18      3      4     1              0   \n",
       "30268         17    1701   12    6    11      5      4     1              0   \n",
       "\n",
       "       NUM_FALLECIDO  TOTAL_VICTIMAS  \n",
       "0                  0               0  \n",
       "1                  0               0  \n",
       "2                  0               0  \n",
       "3                  0               0  \n",
       "4                  0               3  \n",
       "...              ...             ...  \n",
       "30264              0               0  \n",
       "30265              0               1  \n",
       "30266              0               0  \n",
       "30267              0               0  \n",
       "30268              0               0  \n",
       "\n",
       "[30269 rows x 11 columns]"
      ]
     },
     "execution_count": 4,
     "metadata": {},
     "output_type": "execute_result"
    }
   ],
   "source": [
    "data"
   ]
  },
  {
   "cell_type": "code",
   "execution_count": 5,
   "metadata": {},
   "outputs": [],
   "source": [
    "total_victimas_x_provincia = data.loc[:,['PROVINCIA','NUM_LESIONADO', 'NUM_FALLECIDO', 'TOTAL_VICTIMAS']].groupby(by=[\"PROVINCIA\"]).sum().sort_values('TOTAL_VICTIMAS',ascending=False)\n",
    "\n",
    "#data.groupby(by=[\"PROVINCIA\"]).sum()\n",
    "#data.loc[:,['NUM_LESIONADO', 'NUM_FALLECIDO', 'TOTAL_VICTIMAS']]"
   ]
  },
  {
   "cell_type": "code",
   "execution_count": 6,
   "metadata": {},
   "outputs": [
    {
     "data": {
      "text/html": [
       "<div>\n",
       "<style scoped>\n",
       "    .dataframe tbody tr th:only-of-type {\n",
       "        vertical-align: middle;\n",
       "    }\n",
       "\n",
       "    .dataframe tbody tr th {\n",
       "        vertical-align: top;\n",
       "    }\n",
       "\n",
       "    .dataframe thead th {\n",
       "        text-align: right;\n",
       "    }\n",
       "</style>\n",
       "<table border=\"1\" class=\"dataframe\">\n",
       "  <thead>\n",
       "    <tr style=\"text-align: right;\">\n",
       "      <th></th>\n",
       "      <th>NUM_LESIONADO</th>\n",
       "      <th>NUM_FALLECIDO</th>\n",
       "      <th>TOTAL_VICTIMAS</th>\n",
       "    </tr>\n",
       "  </thead>\n",
       "  <tbody>\n",
       "    <tr>\n",
       "      <th>0</th>\n",
       "      <td>0</td>\n",
       "      <td>0</td>\n",
       "      <td>0</td>\n",
       "    </tr>\n",
       "    <tr>\n",
       "      <th>1</th>\n",
       "      <td>0</td>\n",
       "      <td>0</td>\n",
       "      <td>0</td>\n",
       "    </tr>\n",
       "    <tr>\n",
       "      <th>2</th>\n",
       "      <td>0</td>\n",
       "      <td>0</td>\n",
       "      <td>0</td>\n",
       "    </tr>\n",
       "    <tr>\n",
       "      <th>3</th>\n",
       "      <td>0</td>\n",
       "      <td>0</td>\n",
       "      <td>0</td>\n",
       "    </tr>\n",
       "    <tr>\n",
       "      <th>4</th>\n",
       "      <td>3</td>\n",
       "      <td>0</td>\n",
       "      <td>3</td>\n",
       "    </tr>\n",
       "    <tr>\n",
       "      <th>...</th>\n",
       "      <td>...</td>\n",
       "      <td>...</td>\n",
       "      <td>...</td>\n",
       "    </tr>\n",
       "    <tr>\n",
       "      <th>30264</th>\n",
       "      <td>0</td>\n",
       "      <td>0</td>\n",
       "      <td>0</td>\n",
       "    </tr>\n",
       "    <tr>\n",
       "      <th>30265</th>\n",
       "      <td>1</td>\n",
       "      <td>0</td>\n",
       "      <td>1</td>\n",
       "    </tr>\n",
       "    <tr>\n",
       "      <th>30266</th>\n",
       "      <td>0</td>\n",
       "      <td>0</td>\n",
       "      <td>0</td>\n",
       "    </tr>\n",
       "    <tr>\n",
       "      <th>30267</th>\n",
       "      <td>0</td>\n",
       "      <td>0</td>\n",
       "      <td>0</td>\n",
       "    </tr>\n",
       "    <tr>\n",
       "      <th>30268</th>\n",
       "      <td>0</td>\n",
       "      <td>0</td>\n",
       "      <td>0</td>\n",
       "    </tr>\n",
       "  </tbody>\n",
       "</table>\n",
       "<p>30269 rows × 3 columns</p>\n",
       "</div>"
      ],
      "text/plain": [
       "       NUM_LESIONADO  NUM_FALLECIDO  TOTAL_VICTIMAS\n",
       "0                  0              0               0\n",
       "1                  0              0               0\n",
       "2                  0              0               0\n",
       "3                  0              0               0\n",
       "4                  3              0               3\n",
       "...              ...            ...             ...\n",
       "30264              0              0               0\n",
       "30265              1              0               1\n",
       "30266              0              0               0\n",
       "30267              0              0               0\n",
       "30268              0              0               0\n",
       "\n",
       "[30269 rows x 3 columns]"
      ]
     },
     "execution_count": 6,
     "metadata": {},
     "output_type": "execute_result"
    }
   ],
   "source": [
    "total_victimas_x_provincia_2 = data.iloc[:,[8,9,10]]\n",
    "total_victimas_x_provincia_2"
   ]
  },
  {
   "cell_type": "code",
   "execution_count": null,
   "metadata": {},
   "outputs": [],
   "source": []
  },
  {
   "cell_type": "markdown",
   "metadata": {},
   "source": [
    "### 1. Número de victimas (Heridos + Fallecidos) ordenados por provincia"
   ]
  },
  {
   "cell_type": "code",
   "execution_count": 7,
   "metadata": {},
   "outputs": [
    {
     "data": {
      "text/html": [
       "<div>\n",
       "<style scoped>\n",
       "    .dataframe tbody tr th:only-of-type {\n",
       "        vertical-align: middle;\n",
       "    }\n",
       "\n",
       "    .dataframe tbody tr th {\n",
       "        vertical-align: top;\n",
       "    }\n",
       "\n",
       "    .dataframe thead th {\n",
       "        text-align: right;\n",
       "    }\n",
       "</style>\n",
       "<table border=\"1\" class=\"dataframe\">\n",
       "  <thead>\n",
       "    <tr style=\"text-align: right;\">\n",
       "      <th></th>\n",
       "      <th>NUM_LESIONADO</th>\n",
       "      <th>NUM_FALLECIDO</th>\n",
       "      <th>TOTAL_VICTIMAS</th>\n",
       "    </tr>\n",
       "    <tr>\n",
       "      <th>PROVINCIA</th>\n",
       "      <th></th>\n",
       "      <th></th>\n",
       "      <th></th>\n",
       "    </tr>\n",
       "  </thead>\n",
       "  <tbody>\n",
       "    <tr>\n",
       "      <th>9</th>\n",
       "      <td>7375</td>\n",
       "      <td>458</td>\n",
       "      <td>7833</td>\n",
       "    </tr>\n",
       "    <tr>\n",
       "      <th>17</th>\n",
       "      <td>5872</td>\n",
       "      <td>331</td>\n",
       "      <td>6203</td>\n",
       "    </tr>\n",
       "    <tr>\n",
       "      <th>13</th>\n",
       "      <td>966</td>\n",
       "      <td>141</td>\n",
       "      <td>1107</td>\n",
       "    </tr>\n",
       "    <tr>\n",
       "      <th>12</th>\n",
       "      <td>904</td>\n",
       "      <td>135</td>\n",
       "      <td>1039</td>\n",
       "    </tr>\n",
       "    <tr>\n",
       "      <th>1</th>\n",
       "      <td>946</td>\n",
       "      <td>61</td>\n",
       "      <td>1007</td>\n",
       "    </tr>\n",
       "    <tr>\n",
       "      <th>18</th>\n",
       "      <td>844</td>\n",
       "      <td>93</td>\n",
       "      <td>937</td>\n",
       "    </tr>\n",
       "    <tr>\n",
       "      <th>23</th>\n",
       "      <td>688</td>\n",
       "      <td>68</td>\n",
       "      <td>756</td>\n",
       "    </tr>\n",
       "    <tr>\n",
       "      <th>7</th>\n",
       "      <td>630</td>\n",
       "      <td>84</td>\n",
       "      <td>714</td>\n",
       "    </tr>\n",
       "    <tr>\n",
       "      <th>10</th>\n",
       "      <td>459</td>\n",
       "      <td>78</td>\n",
       "      <td>537</td>\n",
       "    </tr>\n",
       "    <tr>\n",
       "      <th>24</th>\n",
       "      <td>446</td>\n",
       "      <td>43</td>\n",
       "      <td>489</td>\n",
       "    </tr>\n",
       "    <tr>\n",
       "      <th>11</th>\n",
       "      <td>323</td>\n",
       "      <td>47</td>\n",
       "      <td>370</td>\n",
       "    </tr>\n",
       "    <tr>\n",
       "      <th>6</th>\n",
       "      <td>291</td>\n",
       "      <td>77</td>\n",
       "      <td>368</td>\n",
       "    </tr>\n",
       "    <tr>\n",
       "      <th>8</th>\n",
       "      <td>306</td>\n",
       "      <td>48</td>\n",
       "      <td>354</td>\n",
       "    </tr>\n",
       "    <tr>\n",
       "      <th>5</th>\n",
       "      <td>256</td>\n",
       "      <td>58</td>\n",
       "      <td>314</td>\n",
       "    </tr>\n",
       "    <tr>\n",
       "      <th>2</th>\n",
       "      <td>218</td>\n",
       "      <td>33</td>\n",
       "      <td>251</td>\n",
       "    </tr>\n",
       "    <tr>\n",
       "      <th>14</th>\n",
       "      <td>213</td>\n",
       "      <td>36</td>\n",
       "      <td>249</td>\n",
       "    </tr>\n",
       "    <tr>\n",
       "      <th>3</th>\n",
       "      <td>182</td>\n",
       "      <td>47</td>\n",
       "      <td>229</td>\n",
       "    </tr>\n",
       "    <tr>\n",
       "      <th>4</th>\n",
       "      <td>138</td>\n",
       "      <td>34</td>\n",
       "      <td>172</td>\n",
       "    </tr>\n",
       "    <tr>\n",
       "      <th>21</th>\n",
       "      <td>83</td>\n",
       "      <td>40</td>\n",
       "      <td>123</td>\n",
       "    </tr>\n",
       "    <tr>\n",
       "      <th>15</th>\n",
       "      <td>102</td>\n",
       "      <td>13</td>\n",
       "      <td>115</td>\n",
       "    </tr>\n",
       "    <tr>\n",
       "      <th>16</th>\n",
       "      <td>91</td>\n",
       "      <td>11</td>\n",
       "      <td>102</td>\n",
       "    </tr>\n",
       "    <tr>\n",
       "      <th>19</th>\n",
       "      <td>84</td>\n",
       "      <td>11</td>\n",
       "      <td>95</td>\n",
       "    </tr>\n",
       "    <tr>\n",
       "      <th>22</th>\n",
       "      <td>39</td>\n",
       "      <td>20</td>\n",
       "      <td>59</td>\n",
       "    </tr>\n",
       "    <tr>\n",
       "      <th>20</th>\n",
       "      <td>2</td>\n",
       "      <td>0</td>\n",
       "      <td>2</td>\n",
       "    </tr>\n",
       "  </tbody>\n",
       "</table>\n",
       "</div>"
      ],
      "text/plain": [
       "           NUM_LESIONADO  NUM_FALLECIDO  TOTAL_VICTIMAS\n",
       "PROVINCIA                                              \n",
       "9                   7375            458            7833\n",
       "17                  5872            331            6203\n",
       "13                   966            141            1107\n",
       "12                   904            135            1039\n",
       "1                    946             61            1007\n",
       "18                   844             93             937\n",
       "23                   688             68             756\n",
       "7                    630             84             714\n",
       "10                   459             78             537\n",
       "24                   446             43             489\n",
       "11                   323             47             370\n",
       "6                    291             77             368\n",
       "8                    306             48             354\n",
       "5                    256             58             314\n",
       "2                    218             33             251\n",
       "14                   213             36             249\n",
       "3                    182             47             229\n",
       "4                    138             34             172\n",
       "21                    83             40             123\n",
       "15                   102             13             115\n",
       "16                    91             11             102\n",
       "19                    84             11              95\n",
       "22                    39             20              59\n",
       "20                     2              0               2"
      ]
     },
     "execution_count": 7,
     "metadata": {},
     "output_type": "execute_result"
    }
   ],
   "source": [
    "total_victimas_x_provincia"
   ]
  },
  {
   "cell_type": "markdown",
   "metadata": {},
   "source": [
    "\n",
    "\n",
    "### 2. ¿Cúales son las 5 provincias con mayor numero de víctimas (Heridos + Fallecidos)?\n"
   ]
  },
  {
   "cell_type": "code",
   "execution_count": 8,
   "metadata": {},
   "outputs": [
    {
     "data": {
      "text/html": [
       "<div>\n",
       "<style scoped>\n",
       "    .dataframe tbody tr th:only-of-type {\n",
       "        vertical-align: middle;\n",
       "    }\n",
       "\n",
       "    .dataframe tbody tr th {\n",
       "        vertical-align: top;\n",
       "    }\n",
       "\n",
       "    .dataframe thead th {\n",
       "        text-align: right;\n",
       "    }\n",
       "</style>\n",
       "<table border=\"1\" class=\"dataframe\">\n",
       "  <thead>\n",
       "    <tr style=\"text-align: right;\">\n",
       "      <th></th>\n",
       "      <th>NUM_LESIONADO</th>\n",
       "      <th>NUM_FALLECIDO</th>\n",
       "      <th>TOTAL_VICTIMAS</th>\n",
       "    </tr>\n",
       "    <tr>\n",
       "      <th>PROVINCIA</th>\n",
       "      <th></th>\n",
       "      <th></th>\n",
       "      <th></th>\n",
       "    </tr>\n",
       "  </thead>\n",
       "  <tbody>\n",
       "    <tr>\n",
       "      <th>9</th>\n",
       "      <td>7375</td>\n",
       "      <td>458</td>\n",
       "      <td>7833</td>\n",
       "    </tr>\n",
       "    <tr>\n",
       "      <th>17</th>\n",
       "      <td>5872</td>\n",
       "      <td>331</td>\n",
       "      <td>6203</td>\n",
       "    </tr>\n",
       "    <tr>\n",
       "      <th>13</th>\n",
       "      <td>966</td>\n",
       "      <td>141</td>\n",
       "      <td>1107</td>\n",
       "    </tr>\n",
       "    <tr>\n",
       "      <th>12</th>\n",
       "      <td>904</td>\n",
       "      <td>135</td>\n",
       "      <td>1039</td>\n",
       "    </tr>\n",
       "    <tr>\n",
       "      <th>1</th>\n",
       "      <td>946</td>\n",
       "      <td>61</td>\n",
       "      <td>1007</td>\n",
       "    </tr>\n",
       "  </tbody>\n",
       "</table>\n",
       "</div>"
      ],
      "text/plain": [
       "           NUM_LESIONADO  NUM_FALLECIDO  TOTAL_VICTIMAS\n",
       "PROVINCIA                                              \n",
       "9                   7375            458            7833\n",
       "17                  5872            331            6203\n",
       "13                   966            141            1107\n",
       "12                   904            135            1039\n",
       "1                    946             61            1007"
      ]
     },
     "execution_count": 8,
     "metadata": {},
     "output_type": "execute_result"
    }
   ],
   "source": [
    "total_victimas_x_provincia.head(5)"
   ]
  },
  {
   "cell_type": "markdown",
   "metadata": {},
   "source": [
    "**Resultado:** \n",
    "1. 9 Guayas\n",
    "2. 7 Pichincha\n",
    "3. 13 Manabí\n",
    "4. 12 Los Rios\n",
    "5. Cotopaxi\n"
   ]
  },
  {
   "cell_type": "code",
   "execution_count": 11,
   "metadata": {},
   "outputs": [
    {
     "data": {
      "image/png": "[encoded data removed]",
      "text/plain": [
       "<Figure size 1080x360 with 1 Axes>"
      ]
     },
     "metadata": {
      "needs_background": "light"
     },
     "output_type": "display_data"
    }
   ],
   "source": [
    "f,ax = plt.subplots(1,1,figsize=(15,5))\n",
    "data_accident_transisto=data.loc[:,'TOTAL_VICTIMAS'].groupby(data.loc[:,'PROVINCIA']).mean().sort_values(ascending=False)\n",
    "ax = sns.barplot(total_victimas_x_provincia.head(5).index,data_accident_transisto.head(5),palette='rocket')\n"
   ]
  },
  {
   "cell_type": "markdown",
   "metadata": {},
   "source": [
    "### Respuesta:\n",
    "1. 9 Guayas\n",
    "2. 7 Pichincha\n",
    "3. 13 Manabí\n",
    "4. 12 Los Rios\n",
    "5. 1 Cotopaxi\n"
   ]
  },
  {
   "cell_type": "markdown",
   "metadata": {},
   "source": [
    "### 2. ¿Cúales son las 5 provincias con menor numero de víctimas (Heridos + Fallecidos)?¶"
   ]
  },
  {
   "cell_type": "code",
   "execution_count": 14,
   "metadata": {},
   "outputs": [
    {
     "data": {
      "text/html": [
       "<div>\n",
       "<style scoped>\n",
       "    .dataframe tbody tr th:only-of-type {\n",
       "        vertical-align: middle;\n",
       "    }\n",
       "\n",
       "    .dataframe tbody tr th {\n",
       "        vertical-align: top;\n",
       "    }\n",
       "\n",
       "    .dataframe thead th {\n",
       "        text-align: right;\n",
       "    }\n",
       "</style>\n",
       "<table border=\"1\" class=\"dataframe\">\n",
       "  <thead>\n",
       "    <tr style=\"text-align: right;\">\n",
       "      <th></th>\n",
       "      <th>NUM_LESIONADO</th>\n",
       "      <th>NUM_FALLECIDO</th>\n",
       "      <th>TOTAL_VICTIMAS</th>\n",
       "    </tr>\n",
       "    <tr>\n",
       "      <th>PROVINCIA</th>\n",
       "      <th></th>\n",
       "      <th></th>\n",
       "      <th></th>\n",
       "    </tr>\n",
       "  </thead>\n",
       "  <tbody>\n",
       "    <tr>\n",
       "      <th>15</th>\n",
       "      <td>102</td>\n",
       "      <td>13</td>\n",
       "      <td>115</td>\n",
       "    </tr>\n",
       "    <tr>\n",
       "      <th>16</th>\n",
       "      <td>91</td>\n",
       "      <td>11</td>\n",
       "      <td>102</td>\n",
       "    </tr>\n",
       "    <tr>\n",
       "      <th>19</th>\n",
       "      <td>84</td>\n",
       "      <td>11</td>\n",
       "      <td>95</td>\n",
       "    </tr>\n",
       "    <tr>\n",
       "      <th>22</th>\n",
       "      <td>39</td>\n",
       "      <td>20</td>\n",
       "      <td>59</td>\n",
       "    </tr>\n",
       "    <tr>\n",
       "      <th>20</th>\n",
       "      <td>2</td>\n",
       "      <td>0</td>\n",
       "      <td>2</td>\n",
       "    </tr>\n",
       "  </tbody>\n",
       "</table>\n",
       "</div>"
      ],
      "text/plain": [
       "           NUM_LESIONADO  NUM_FALLECIDO  TOTAL_VICTIMAS\n",
       "PROVINCIA                                              \n",
       "15                   102             13             115\n",
       "16                    91             11             102\n",
       "19                    84             11              95\n",
       "22                    39             20              59\n",
       "20                     2              0               2"
      ]
     },
     "execution_count": 14,
     "metadata": {},
     "output_type": "execute_result"
    }
   ],
   "source": [
    "total_victimas_x_provincia.tail(5)"
   ]
  },
  {
   "cell_type": "code",
   "execution_count": 15,
   "metadata": {},
   "outputs": [
    {
     "data": {
      "image/png": "[encoded data removed]",
      "text/plain": [
       "<Figure size 1080x360 with 1 Axes>"
      ]
     },
     "metadata": {
      "needs_background": "light"
     },
     "output_type": "display_data"
    }
   ],
   "source": [
    "f,ax = plt.subplots(1,1,figsize=(15,5))\n",
    "data_accident_transisto=data.loc[:,'TOTAL_VICTIMAS'].groupby(data.loc[:,'PROVINCIA']).mean().sort_values(ascending=False)\n",
    "ax = sns.barplot(total_victimas_x_provincia.tail(5).index,data_accident_transisto.head(5),palette='rocket')\n"
   ]
  },
  {
   "cell_type": "markdown",
   "metadata": {},
   "source": [
    "### Respuesta:\n",
    "\n",
    "1. 15 NAPO\n",
    "2. 16 PASTAZA\n",
    "3. 19 ZAMORA CHINCHIPE\n",
    "4. 22 ORELLANA\n",
    "5. 20 GALAPAGOS\n"
   ]
  },
  {
   "cell_type": "markdown",
   "metadata": {},
   "source": [
    "### 3. Total de Víctimas por Provincia (Grafica)"
   ]
  },
  {
   "cell_type": "code",
   "execution_count": 12,
   "metadata": {},
   "outputs": [
    {
     "data": {
      "image/png": "[encoded data removed]",
      "text/plain": [
       "<Figure size 1080x288 with 1 Axes>"
      ]
     },
     "metadata": {
      "needs_background": "light"
     },
     "output_type": "display_data"
    }
   ],
   "source": [
    "f,ax = plt.subplots(1,1,figsize=(15,4))\n",
    "ax = sns.barplot(total_victimas_x_provincia.head(24).index,data_accident_transisto.head(24),palette='rocket')"
   ]
  },
  {
   "cell_type": "markdown",
   "metadata": {},
   "source": [
    "**Resultado:** La provincia con mayor número de victimas es Imbabura "
   ]
  },
  {
   "cell_type": "markdown",
   "metadata": {},
   "source": [
    "- [x] Write the press release\n",
    "- [ ] Update the website\n",
    "- [ ] Contact the media "
   ]
  },
  {
   "cell_type": "markdown",
   "metadata": {},
   "source": [
    "\n",
    "### 4. Analizar el número de fallecidos de acuerdo a la zona."
   ]
  },
  {
   "cell_type": "code",
   "execution_count": 22,
   "metadata": {},
   "outputs": [
    {
     "data": {
      "image/png": "[encoded data removed]",
      "text/plain": [
       "<Figure size 432x288 with 1 Axes>"
      ]
     },
     "metadata": {},
     "output_type": "display_data"
    },
    {
     "name": "stdout",
     "output_type": "stream",
     "text": [
      "1 URBANA\n",
      "2 RURAL\n"
     ]
    }
   ],
   "source": [
    "serie_fallecidos=data.ZONA.value_counts()\n",
    "total_accidentes=data.shape[0]\n",
    "porcentaje_rural=(serie_fallecidos[2]/total_accidentes)*100\n",
    "porcentaje_urbano=(serie_fallecidos[1]/total_accidentes)*100\n",
    "patches,texts=plt.pie(serie_fallecidos,shadow=True,startangle=90)\n",
    "plt.pie(serie_fallecidos,shadow=True,labels=serie_fallecidos.index,autopct='%1.1f%%')\n",
    "plt.legend(patches,serie_fallecidos.index,loc=\"best\")\n",
    "plt.axis(\"equal\")\n",
    "plt.title(\"Fallecidos de acuerdo a la zona\")\n",
    "plt.tight_layout()\n",
    "numero_fallecidos_rural=serie_fallecidos[2]\n",
    "numero_fallecidos_urbano=serie_fallecidos[1]\n",
    "plt.show()\n",
    "print(\"1 URBANA\")\n",
    "print(\"2 RURAL\")"
   ]
  },
  {
   "cell_type": "markdown",
   "metadata": {},
   "source": [
    " **Resultados:** La mayor cantidad de accidentes de tránsito se registra en la zona Urbana con un 71.5%"
   ]
  },
  {
   "cell_type": "markdown",
   "metadata": {},
   "source": [
    "### 5. Determinar el número de lesionados por día"
   ]
  },
  {
   "cell_type": "code",
   "execution_count": 23,
   "metadata": {},
   "outputs": [
    {
     "data": {
      "text/plain": [
       "Text(0, 0.5, 'NUMERO_LESIONADOS')"
      ]
     },
     "execution_count": 23,
     "metadata": {},
     "output_type": "execute_result"
    },
    {
     "data": {
      "image/png": "[encoded data removed]",
      "text/plain": [
       "<Figure size 1080x576 with 1 Axes>"
      ]
     },
     "metadata": {
      "needs_background": "light"
     },
     "output_type": "display_data"
    }
   ],
   "source": [
    "fig = plt.figure(figsize=(15,8))\n",
    "ax = fig.add_subplot(1, 1, 1)\n",
    "ax.plot(data.groupby(['DIA']).NUM_LESIONADO.sum())\n",
    "ax.set_title('LESIONADOS POR DIA DE LA SEMANA')\n",
    "ax.set_xlabel('DIA')\n",
    "ax.set_ylabel('NUMERO_LESIONADOS')"
   ]
  },
  {
   "cell_type": "markdown",
   "metadata": {},
   "source": [
    "**Resultado:** La mayor parte de lesionados ocurren los días sábados y domingos"
   ]
  },
  {
   "cell_type": "markdown",
   "metadata": {},
   "source": [
    "### 6. Analizar la hora con mayor víctimas."
   ]
  },
  {
   "cell_type": "code",
   "execution_count": 40,
   "metadata": {},
   "outputs": [
    {
     "data": {
      "text/plain": [
       "19    1711\n",
       "17    1617\n",
       "20    1605\n",
       "16    1602\n",
       "18    1591\n",
       "7     1584\n",
       "15    1567\n",
       "13    1526\n",
       "12    1439\n",
       "14    1424\n",
       "8     1356\n",
       "10    1335\n",
       "21    1312\n",
       "11    1308\n",
       "6     1298\n",
       "9     1225\n",
       "22    1145\n",
       "23     958\n",
       "0      892\n",
       "5      870\n",
       "1      773\n",
       "2      771\n",
       "3      718\n",
       "4      642\n",
       "Name: HORA, dtype: int64"
      ]
     },
     "execution_count": 40,
     "metadata": {},
     "output_type": "execute_result"
    }
   ],
   "source": [
    "serie_horas"
   ]
  },
  {
   "cell_type": "code",
   "execution_count": 31,
   "metadata": {},
   "outputs": [
    {
     "data": {
      "image/png": "[encoded data removed]",
      "text/plain": [
       "<Figure size 432x288 with 1 Axes>"
      ]
     },
     "metadata": {},
     "output_type": "display_data"
    }
   ],
   "source": [
    "serie_horas=data.HORA.value_counts().head(6)\n",
    "plt.pie(serie_horas,shadow=True,labels=serie_horas.index,autopct='%1.1f%%')\n",
    "plt.legend(patches,serie_horas.index,loc=\"best\")\n",
    "plt.axis('equal')\n",
    "plt.title(\"Horas de accidentes\")\n",
    "plt.tight_layout()\n",
    "plt.show()"
   ]
  },
  {
   "cell_type": "markdown",
   "metadata": {},
   "source": [
    "**Resultado:** La hora en donde existen mas víctimas es 19= 19:00 A 19:59 con un 17,6%, y en 17= 17:00 A 17:59 horas con un 16,7%"
   ]
  },
  {
   "cell_type": "markdown",
   "metadata": {},
   "source": [
    "### 6. Analizar la hora con mayor víctimas."
   ]
  },
  {
   "cell_type": "code",
   "execution_count": 37,
   "metadata": {},
   "outputs": [
    {
     "data": {
      "image/png": "[encoded data removed]",
      "text/plain": [
       "<Figure size 432x288 with 1 Axes>"
      ]
     },
     "metadata": {},
     "output_type": "display_data"
    }
   ],
   "source": [
    "serie_horas=data.HORA.value_counts().tail(24)\n",
    "plt.pie(serie_horas,shadow=True,labels=serie_horas.index,autopct='%1.1f%%')\n",
    "plt.legend(patches,serie_horas.index,loc=\"lower right\")\n",
    "plt.axis('equal')\n",
    "plt.title(\"Horas de accidentes\")\n",
    "plt.tight_layout()\n",
    "plt.show()"
   ]
  },
  {
   "cell_type": "markdown",
   "metadata": {},
   "source": [
    "**Resultado:** La hora en la que suceden menos accidentes es en 4= 04:00 A 04:59 con un 2,1%"
   ]
  },
  {
   "cell_type": "markdown",
   "metadata": {},
   "source": [
    "### 7. Numero de fallecidos por mes"
   ]
  },
  {
   "cell_type": "code",
   "execution_count": 47,
   "metadata": {},
   "outputs": [
    {
     "data": {
      "text/plain": [
       "Text(0, 0.5, 'NUMERO_FALLECIDOS')"
      ]
     },
     "execution_count": 47,
     "metadata": {},
     "output_type": "execute_result"
    },
    {
     "data": {
      "image/png": "[encoded data removed]",
      "text/plain": [
       "<Figure size 1080x576 with 1 Axes>"
      ]
     },
     "metadata": {
      "needs_background": "light"
     },
     "output_type": "display_data"
    }
   ],
   "source": [
    "fig = plt.figure(figsize=(15,8))\n",
    "ax = fig.add_subplot(1, 1, 1)\n",
    "ax.plot(data.groupby(['MES']).NUM_FALLECIDO.sum())\n",
    "ax.set_title('FALLECIDOS POR MES ')\n",
    "ax.set_xlabel('MES')\n",
    "ax.set_ylabel('NUMERO_FALLECIDOS')"
   ]
  },
  {
   "cell_type": "markdown",
   "metadata": {},
   "source": [
    "**Resultados:** los meses con más accidentes son Octubre y Diciembre"
   ]
  },
  {
   "cell_type": "markdown",
   "metadata": {},
   "source": [
    "### 8. Total de victimas por clase"
   ]
  },
  {
   "cell_type": "code",
   "execution_count": 59,
   "metadata": {},
   "outputs": [
    {
     "data": {
      "text/html": [
       "<div>\n",
       "<style scoped>\n",
       "    .dataframe tbody tr th:only-of-type {\n",
       "        vertical-align: middle;\n",
       "    }\n",
       "\n",
       "    .dataframe tbody tr th {\n",
       "        vertical-align: top;\n",
       "    }\n",
       "\n",
       "    .dataframe thead th {\n",
       "        text-align: right;\n",
       "    }\n",
       "</style>\n",
       "<table border=\"1\" class=\"dataframe\">\n",
       "  <thead>\n",
       "    <tr style=\"text-align: right;\">\n",
       "      <th></th>\n",
       "      <th>NUM_LESIONADO</th>\n",
       "      <th>NUM_FALLECIDO</th>\n",
       "      <th>TOTAL_VICTIMAS</th>\n",
       "    </tr>\n",
       "    <tr>\n",
       "      <th>CLASE</th>\n",
       "      <th></th>\n",
       "      <th></th>\n",
       "      <th></th>\n",
       "    </tr>\n",
       "  </thead>\n",
       "  <tbody>\n",
       "    <tr>\n",
       "      <th>3</th>\n",
       "      <td>9997</td>\n",
       "      <td>664</td>\n",
       "      <td>10661</td>\n",
       "    </tr>\n",
       "    <tr>\n",
       "      <th>1</th>\n",
       "      <td>4545</td>\n",
       "      <td>592</td>\n",
       "      <td>5137</td>\n",
       "    </tr>\n",
       "    <tr>\n",
       "      <th>7</th>\n",
       "      <td>2771</td>\n",
       "      <td>348</td>\n",
       "      <td>3119</td>\n",
       "    </tr>\n",
       "    <tr>\n",
       "      <th>4</th>\n",
       "      <td>1784</td>\n",
       "      <td>182</td>\n",
       "      <td>1966</td>\n",
       "    </tr>\n",
       "    <tr>\n",
       "      <th>2</th>\n",
       "      <td>767</td>\n",
       "      <td>34</td>\n",
       "      <td>801</td>\n",
       "    </tr>\n",
       "    <tr>\n",
       "      <th>6</th>\n",
       "      <td>693</td>\n",
       "      <td>105</td>\n",
       "      <td>798</td>\n",
       "    </tr>\n",
       "    <tr>\n",
       "      <th>5</th>\n",
       "      <td>661</td>\n",
       "      <td>28</td>\n",
       "      <td>689</td>\n",
       "    </tr>\n",
       "    <tr>\n",
       "      <th>8</th>\n",
       "      <td>240</td>\n",
       "      <td>14</td>\n",
       "      <td>254</td>\n",
       "    </tr>\n",
       "  </tbody>\n",
       "</table>\n",
       "</div>"
      ],
      "text/plain": [
       "       NUM_LESIONADO  NUM_FALLECIDO  TOTAL_VICTIMAS\n",
       "CLASE                                              \n",
       "3               9997            664           10661\n",
       "1               4545            592            5137\n",
       "7               2771            348            3119\n",
       "4               1784            182            1966\n",
       "2                767             34             801\n",
       "6                693            105             798\n",
       "5                661             28             689\n",
       "8                240             14             254"
      ]
     },
     "execution_count": 59,
     "metadata": {},
     "output_type": "execute_result"
    }
   ],
   "source": [
    "total_victimas_x_Clase = data.loc[:,['CLASE','NUM_LESIONADO', 'NUM_FALLECIDO', 'TOTAL_VICTIMAS']].groupby(by=[\"CLASE\"]).sum().sort_values('TOTAL_VICTIMAS',ascending=False)\n",
    "total_victimas_x_Clase"
   ]
  },
  {
   "cell_type": "markdown",
   "metadata": {},
   "source": [
    "**Resultados:** los tipos de accidentes con mas victimas son: \n",
    "1. Choques\n",
    "2. Atropellos\n",
    "3. Pérdida de pista\n",
    "4. Estrellamientos\n",
    "5. Caida de pasajeros\n",
    "6. Volcamientos\n",
    "7. Rozamientos\n",
    "8. Otros\n",
    "\n",
    "\n",
    "\n"
   ]
  },
  {
   "cell_type": "markdown",
   "metadata": {},
   "source": [
    "### 9. Total de victimas por Causa"
   ]
  },
  {
   "cell_type": "code",
   "execution_count": 61,
   "metadata": {},
   "outputs": [
    {
     "data": {
      "text/html": [
       "<div>\n",
       "<style scoped>\n",
       "    .dataframe tbody tr th:only-of-type {\n",
       "        vertical-align: middle;\n",
       "    }\n",
       "\n",
       "    .dataframe tbody tr th {\n",
       "        vertical-align: top;\n",
       "    }\n",
       "\n",
       "    .dataframe thead th {\n",
       "        text-align: right;\n",
       "    }\n",
       "</style>\n",
       "<table border=\"1\" class=\"dataframe\">\n",
       "  <thead>\n",
       "    <tr style=\"text-align: right;\">\n",
       "      <th></th>\n",
       "      <th>NUM_LESIONADO</th>\n",
       "      <th>NUM_FALLECIDO</th>\n",
       "      <th>TOTAL_VICTIMAS</th>\n",
       "    </tr>\n",
       "    <tr>\n",
       "      <th>CAUSA</th>\n",
       "      <th></th>\n",
       "      <th></th>\n",
       "      <th></th>\n",
       "    </tr>\n",
       "  </thead>\n",
       "  <tbody>\n",
       "    <tr>\n",
       "      <th>4</th>\n",
       "      <td>9871</td>\n",
       "      <td>1107</td>\n",
       "      <td>10978</td>\n",
       "    </tr>\n",
       "    <tr>\n",
       "      <th>3</th>\n",
       "      <td>3421</td>\n",
       "      <td>259</td>\n",
       "      <td>3680</td>\n",
       "    </tr>\n",
       "    <tr>\n",
       "      <th>7</th>\n",
       "      <td>3192</td>\n",
       "      <td>147</td>\n",
       "      <td>3339</td>\n",
       "    </tr>\n",
       "    <tr>\n",
       "      <th>2</th>\n",
       "      <td>1619</td>\n",
       "      <td>118</td>\n",
       "      <td>1737</td>\n",
       "    </tr>\n",
       "    <tr>\n",
       "      <th>1</th>\n",
       "      <td>1522</td>\n",
       "      <td>87</td>\n",
       "      <td>1609</td>\n",
       "    </tr>\n",
       "    <tr>\n",
       "      <th>5</th>\n",
       "      <td>977</td>\n",
       "      <td>164</td>\n",
       "      <td>1141</td>\n",
       "    </tr>\n",
       "    <tr>\n",
       "      <th>10</th>\n",
       "      <td>311</td>\n",
       "      <td>28</td>\n",
       "      <td>339</td>\n",
       "    </tr>\n",
       "    <tr>\n",
       "      <th>9</th>\n",
       "      <td>216</td>\n",
       "      <td>23</td>\n",
       "      <td>239</td>\n",
       "    </tr>\n",
       "    <tr>\n",
       "      <th>6</th>\n",
       "      <td>194</td>\n",
       "      <td>25</td>\n",
       "      <td>219</td>\n",
       "    </tr>\n",
       "    <tr>\n",
       "      <th>8</th>\n",
       "      <td>135</td>\n",
       "      <td>9</td>\n",
       "      <td>144</td>\n",
       "    </tr>\n",
       "  </tbody>\n",
       "</table>\n",
       "</div>"
      ],
      "text/plain": [
       "       NUM_LESIONADO  NUM_FALLECIDO  TOTAL_VICTIMAS\n",
       "CAUSA                                              \n",
       "4               9871           1107           10978\n",
       "3               3421            259            3680\n",
       "7               3192            147            3339\n",
       "2               1619            118            1737\n",
       "1               1522             87            1609\n",
       "5                977            164            1141\n",
       "10               311             28             339\n",
       "9                216             23             239\n",
       "6                194             25             219\n",
       "8                135              9             144"
      ]
     },
     "execution_count": 61,
     "metadata": {},
     "output_type": "execute_result"
    }
   ],
   "source": [
    "total_victimas_x_Causa = data.loc[:,['CAUSA','NUM_LESIONADO', 'NUM_FALLECIDO', 'TOTAL_VICTIMAS']].groupby(by=[\"CAUSA\"]).sum().sort_values('TOTAL_VICTIMAS',ascending=False)\n",
    "total_victimas_x_Causa"
   ]
  },
  {
   "cell_type": "markdown",
   "metadata": {},
   "source": [
    "**Resultados:** los tipos de accidentes con mas victimas son: \n",
    "1. (4) IMPERICIA E IMPRUDDENCIA DEL CONDUCTOR\n",
    "2. (3) EXCESO VELOCIDAD\n",
    "3. (7) NO RESPETA LAS SEÑALES DE TRÁNSITOa\n",
    "4. (2) MAL REBASAMIENTO INVADIR CARRIL\n",
    "5. (1) EMBRIAGUEZ O DROGA\n",
    "6. (5) IMPRUDENCIA  DEL PEATÓN\n",
    "7. (10) OTRAS CAUSAS\n",
    "8. (9) MAL ESTADO DE LA VÍA\n",
    "9. (6) DAÑOS MECÁNICOS\n",
    "10. (8)FACTORES CLIMÁTICOS"
   ]
  },
  {
   "cell_type": "markdown",
   "metadata": {},
   "source": [
    "### 10. Número de Lesionandos Vs Número de Fallecidos"
   ]
  },
  {
   "cell_type": "code",
   "execution_count": 72,
   "metadata": {},
   "outputs": [
    {
     "data": {
      "text/plain": [
       "21458"
      ]
     },
     "execution_count": 72,
     "metadata": {},
     "output_type": "execute_result"
    }
   ],
   "source": [
    "data.NUM_LESIONADO.sum()"
   ]
  },
  {
   "cell_type": "code",
   "execution_count": 67,
   "metadata": {},
   "outputs": [
    {
     "data": {
      "text/plain": [
       "1967"
      ]
     },
     "execution_count": 67,
     "metadata": {},
     "output_type": "execute_result"
    }
   ],
   "source": [
    "data.NUM_FALLECIDO.sum()"
   ]
  },
  {
   "cell_type": "code",
   "execution_count": 87,
   "metadata": {},
   "outputs": [
    {
     "data": {
      "image/png": "[encoded data removed]",
      "text/plain": [
       "<Figure size 432x288 with 1 Axes>"
      ]
     },
     "metadata": {},
     "output_type": "display_data"
    }
   ],
   "source": [
    "fallecidos_vs_lesionados_2 = [data.NUM_LESIONADO.sum() , data.NUM_FALLECIDO.sum()]\n",
    "\n",
    "labels =  'LESIONADOS', 'FALLECIDOS'\n",
    "\n",
    "fig1, ax1 = plt.subplots()\n",
    "ax1.pie(fallecidos_vs_lesionados_2, labels=labels, autopct='%1.1f%%',\n",
    "        shadow=True, startangle=90)\n",
    "ax1.axis('equal')  # Equal aspect ratio ensures that pie is drawn as a circle.\n",
    "\n",
    "plt.show()"
   ]
  },
  {
   "cell_type": "code",
   "execution_count": null,
   "metadata": {},
   "outputs": [],
   "source": []
  },
  {
   "cell_type": "code",
   "execution_count": 90,
   "metadata": {},
   "outputs": [],
   "source": [
    "fallecidos_vs_lesionados = data.loc[:,['NUM_FALLECIDO', 'TOTAL_VICTIMAS']]"
   ]
  },
  {
   "cell_type": "code",
   "execution_count": null,
   "metadata": {},
   "outputs": [],
   "source": []
  },
  {
   "cell_type": "code",
   "execution_count": 73,
   "metadata": {},
   "outputs": [
    {
     "data": {
      "text/html": [
       "<div>\n",
       "<style scoped>\n",
       "    .dataframe tbody tr th:only-of-type {\n",
       "        vertical-align: middle;\n",
       "    }\n",
       "\n",
       "    .dataframe tbody tr th {\n",
       "        vertical-align: top;\n",
       "    }\n",
       "\n",
       "    .dataframe thead th {\n",
       "        text-align: right;\n",
       "    }\n",
       "</style>\n",
       "<table border=\"1\" class=\"dataframe\">\n",
       "  <thead>\n",
       "    <tr style=\"text-align: right;\">\n",
       "      <th></th>\n",
       "      <th>PROVINCIA</th>\n",
       "      <th>CANTON</th>\n",
       "      <th>MES</th>\n",
       "      <th>DIA</th>\n",
       "      <th>HORA</th>\n",
       "      <th>CLASE</th>\n",
       "      <th>CAUSA</th>\n",
       "      <th>ZONA</th>\n",
       "      <th>NUM_LESIONADO</th>\n",
       "      <th>NUM_FALLECIDO</th>\n",
       "      <th>TOTAL_VICTIMAS</th>\n",
       "    </tr>\n",
       "  </thead>\n",
       "  <tbody>\n",
       "    <tr>\n",
       "      <th>0</th>\n",
       "      <td>18</td>\n",
       "      <td>1801</td>\n",
       "      <td>1</td>\n",
       "      <td>5</td>\n",
       "      <td>4</td>\n",
       "      <td>4</td>\n",
       "      <td>1</td>\n",
       "      <td>1</td>\n",
       "      <td>0</td>\n",
       "      <td>0</td>\n",
       "      <td>0</td>\n",
       "    </tr>\n",
       "    <tr>\n",
       "      <th>1</th>\n",
       "      <td>18</td>\n",
       "      <td>1801</td>\n",
       "      <td>1</td>\n",
       "      <td>5</td>\n",
       "      <td>14</td>\n",
       "      <td>4</td>\n",
       "      <td>1</td>\n",
       "      <td>1</td>\n",
       "      <td>0</td>\n",
       "      <td>0</td>\n",
       "      <td>0</td>\n",
       "    </tr>\n",
       "    <tr>\n",
       "      <th>2</th>\n",
       "      <td>18</td>\n",
       "      <td>1801</td>\n",
       "      <td>1</td>\n",
       "      <td>5</td>\n",
       "      <td>6</td>\n",
       "      <td>3</td>\n",
       "      <td>1</td>\n",
       "      <td>2</td>\n",
       "      <td>0</td>\n",
       "      <td>0</td>\n",
       "      <td>0</td>\n",
       "    </tr>\n",
       "    <tr>\n",
       "      <th>3</th>\n",
       "      <td>18</td>\n",
       "      <td>1801</td>\n",
       "      <td>1</td>\n",
       "      <td>5</td>\n",
       "      <td>11</td>\n",
       "      <td>4</td>\n",
       "      <td>1</td>\n",
       "      <td>1</td>\n",
       "      <td>0</td>\n",
       "      <td>0</td>\n",
       "      <td>0</td>\n",
       "    </tr>\n",
       "    <tr>\n",
       "      <th>4</th>\n",
       "      <td>18</td>\n",
       "      <td>1801</td>\n",
       "      <td>1</td>\n",
       "      <td>5</td>\n",
       "      <td>22</td>\n",
       "      <td>4</td>\n",
       "      <td>10</td>\n",
       "      <td>2</td>\n",
       "      <td>3</td>\n",
       "      <td>0</td>\n",
       "      <td>3</td>\n",
       "    </tr>\n",
       "    <tr>\n",
       "      <th>...</th>\n",
       "      <td>...</td>\n",
       "      <td>...</td>\n",
       "      <td>...</td>\n",
       "      <td>...</td>\n",
       "      <td>...</td>\n",
       "      <td>...</td>\n",
       "      <td>...</td>\n",
       "      <td>...</td>\n",
       "      <td>...</td>\n",
       "      <td>...</td>\n",
       "      <td>...</td>\n",
       "    </tr>\n",
       "    <tr>\n",
       "      <th>30264</th>\n",
       "      <td>17</td>\n",
       "      <td>1701</td>\n",
       "      <td>12</td>\n",
       "      <td>6</td>\n",
       "      <td>22</td>\n",
       "      <td>3</td>\n",
       "      <td>1</td>\n",
       "      <td>1</td>\n",
       "      <td>0</td>\n",
       "      <td>0</td>\n",
       "      <td>0</td>\n",
       "    </tr>\n",
       "    <tr>\n",
       "      <th>30265</th>\n",
       "      <td>17</td>\n",
       "      <td>1701</td>\n",
       "      <td>12</td>\n",
       "      <td>6</td>\n",
       "      <td>17</td>\n",
       "      <td>7</td>\n",
       "      <td>3</td>\n",
       "      <td>1</td>\n",
       "      <td>1</td>\n",
       "      <td>0</td>\n",
       "      <td>1</td>\n",
       "    </tr>\n",
       "    <tr>\n",
       "      <th>30266</th>\n",
       "      <td>17</td>\n",
       "      <td>1701</td>\n",
       "      <td>12</td>\n",
       "      <td>6</td>\n",
       "      <td>5</td>\n",
       "      <td>4</td>\n",
       "      <td>3</td>\n",
       "      <td>2</td>\n",
       "      <td>0</td>\n",
       "      <td>0</td>\n",
       "      <td>0</td>\n",
       "    </tr>\n",
       "    <tr>\n",
       "      <th>30267</th>\n",
       "      <td>17</td>\n",
       "      <td>1701</td>\n",
       "      <td>12</td>\n",
       "      <td>6</td>\n",
       "      <td>18</td>\n",
       "      <td>3</td>\n",
       "      <td>4</td>\n",
       "      <td>1</td>\n",
       "      <td>0</td>\n",
       "      <td>0</td>\n",
       "      <td>0</td>\n",
       "    </tr>\n",
       "    <tr>\n",
       "      <th>30268</th>\n",
       "      <td>17</td>\n",
       "      <td>1701</td>\n",
       "      <td>12</td>\n",
       "      <td>6</td>\n",
       "      <td>11</td>\n",
       "      <td>5</td>\n",
       "      <td>4</td>\n",
       "      <td>1</td>\n",
       "      <td>0</td>\n",
       "      <td>0</td>\n",
       "      <td>0</td>\n",
       "    </tr>\n",
       "  </tbody>\n",
       "</table>\n",
       "<p>30269 rows × 11 columns</p>\n",
       "</div>"
      ],
      "text/plain": [
       "       PROVINCIA  CANTON  MES  DIA  HORA  CLASE  CAUSA  ZONA  NUM_LESIONADO  \\\n",
       "0             18    1801    1    5     4      4      1     1              0   \n",
       "1             18    1801    1    5    14      4      1     1              0   \n",
       "2             18    1801    1    5     6      3      1     2              0   \n",
       "3             18    1801    1    5    11      4      1     1              0   \n",
       "4             18    1801    1    5    22      4     10     2              3   \n",
       "...          ...     ...  ...  ...   ...    ...    ...   ...            ...   \n",
       "30264         17    1701   12    6    22      3      1     1              0   \n",
       "30265         17    1701   12    6    17      7      3     1              1   \n",
       "30266         17    1701   12    6     5      4      3     2              0   \n",
       "30267         17    1701   12    6    18      3      4     1              0   \n",
       "30268         17    1701   12    6    11      5      4     1              0   \n",
       "\n",
       "       NUM_FALLECIDO  TOTAL_VICTIMAS  \n",
       "0                  0               0  \n",
       "1                  0               0  \n",
       "2                  0               0  \n",
       "3                  0               0  \n",
       "4                  0               3  \n",
       "...              ...             ...  \n",
       "30264              0               0  \n",
       "30265              0               1  \n",
       "30266              0               0  \n",
       "30267              0               0  \n",
       "30268              0               0  \n",
       "\n",
       "[30269 rows x 11 columns]"
      ]
     },
     "execution_count": 73,
     "metadata": {},
     "output_type": "execute_result"
    }
   ],
   "source": [
    "data"
   ]
  },
  {
   "cell_type": "code",
   "execution_count": null,
   "metadata": {},
   "outputs": [],
   "source": []
  },
  {
   "cell_type": "code",
   "execution_count": null,
   "metadata": {},
   "outputs": [],
   "source": []
  }
 ],
 "metadata": {
  "kernelspec": {
   "display_name": "Python 3",
   "language": "python",
   "name": "python3"
  },
  "language_info": {
   "codemirror_mode": {
    "name": "ipython",
    "version": 3
   },
   "file_extension": ".py",
   "mimetype": "text/x-python",
   "name": "python",
   "nbconvert_exporter": "python",
   "pygments_lexer": "ipython3",
   "version": "3.8.3"
  }
 },
 "nbformat": 4,
 "nbformat_minor": 4
}
