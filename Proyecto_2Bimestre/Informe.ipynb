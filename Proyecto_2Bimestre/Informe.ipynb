{
 "cells": [
  {
   "cell_type": "markdown",
   "metadata": {},
   "source": [
    "# Proyecto 2do Bimestre\n",
    "\n",
    "## Escuela Politécnca Naciona\n",
    "\n",
    "### Martín Balarezo\n",
    "\n",
    "### 21/09/2020\n",
    "\n",
    "### Proyecto: Análisis de accidentes de tráfico (INEC 2016)\n",
    "\n",
    "#### Introducción:\n",
    "\n",
    "Es una investigación que recopila información de diferentes fuentes: Comisión de Tránsito y Transporte Terrestre; Dirección General de Tránsito; Comisión de Tránsito del Guayas; Empresa de Ferrocarriles del Estado; Dirección de Aviación Civil y Capitanías de Puerto dependientes de la Dirección de la Marina Mercante. Tiene una frecuencia anual y contiene la siguiente información: vehículos motorizados matriculados; accidentes de tránsito y víctimas; transporte ferroviario; transporte aéreo internacional y transporte marítimo internacional. La última publicación corresponde al año 2016. Los resultados se presentan a nivel nacional y provincial.\n"
   ]
  },
  {
   "cell_type": "markdown",
   "metadata": {},
   "source": [
    "\n",
    "#### imports de librerias:"
   ]
  },
  {
   "cell_type": "code",
   "execution_count": 1,
   "metadata": {},
   "outputs": [],
   "source": [
    "import numpy as np\n",
    "import pandas as pd\n",
    "import matplotlib.pyplot as plt\n",
    "import seaborn as sns"
   ]
  },
  {
   "cell_type": "markdown",
   "metadata": {},
   "source": [
    "##### Añadir la base de datos (csv)"
   ]
  },
  {
   "cell_type": "code",
   "execution_count": 2,
   "metadata": {},
   "outputs": [],
   "source": [
    "path_file = 'C:/Users/marti/Documents/python/py-balarezo-leon-ricardo-martin/Proyecto_2Bimestre/Datos/2016_Accidentes Tránsito_BDD.csv'"
   ]
  },
  {
   "cell_type": "code",
   "execution_count": 3,
   "metadata": {},
   "outputs": [],
   "source": [
    "data = pd.read_csv(path_file,sep=',')"
   ]
  },
  {
   "cell_type": "markdown",
   "metadata": {},
   "source": [
    "### Diccionario de Datos:\n"
   ]
  },
  {
   "attachments": {},
   "cell_type": "markdown",
   "metadata": {},
   "source": [
    "| N°\t|   \"Nombre del Campo(Encabezado Columna)\"\t|    Categorías\t|   \t\n",
    "|:-:\t|:-:\t               \t                    |:-:\t        |\n",
    "|\t1   |PROVINCIA   \t                            |     1=AZUAY<br>2=BOLIVAR<br>3=CAÑAR<br>4=CARCHI<br>5=COTOPAXI<br>6=CHIMBORAZO<br>7=EL ORO<br>8=ESMERALDAS<br>9=GUAYAS<br>10=IMBABURA<br>11=LOJA<br>12=LOS RIOS<br>13=MANABI<br>14=MORONA SANTIAGO<br>15=NAPO<br>16=PASTAZA<br>17=PICHINCHA<br>18=TUNGURAHUA<br>19=ZAMORA CHINCHIPE<br>20=GALAPAGOS<br>21=SUCUMBIOS<br>22=ORELLANA<br>23=SANTO DOMINGO DE LOS TSACHILAS<br>24=SANTA ELENA      \t\n",
    "|  2 \t|CANTON                                     |<br><br>0101= CUENCA<br>0102= GIRON<br>0103= GUALACEO<br>0104= NABON<br>0105= PAUTE<br>0106= PUCARA<br>0108= SANTA ISABEL<br>0109= SIGSIG<br>0110= OÑA<br>0111= CHORDELEG<br>0113= SEVILLA DE ORO<br>0114= GUACHAPALA<br>0115= CAMILO PONCE ENRIQUEZ<br>0201= GUARANDA<br>0202= CHILLANES<br>0203= CHIMBO<br>0204= ECHEANDIA<br>0205= SAN MIGUEL<br>0206= CALUMA<br>0207= LAS NAVES<br>0301= AZOGUES<br>0302= BIBLIAN<br>0303= CAÑAR<br>0304= LA TRONCAL<br>0305= EL TAMBO<br>0306= DELEG<br>0307= SUSCAL<br>0401= TULCAN<br>0402= BOLIVAR<br>0403= ESPEJO<br>0404= MIRA<br>0405= MONTUFAR<br>0406= SAN PEDRO DE HUACA<br>0501= LATACUNGA<br>0502= LA MANA<br>0504= PUJILI<br>0505= SALCEDO<br>0506= SAQUISILI<br>0507= SIGCHOS<br>0601= RIOBAMBA<br>0602= ALAUSI<br>0603= COLTA<br>0604= CHAMBO<br>0605= CHUNCHI<br>0606= GUAMOTE<br>0607= GUANO<br>0608= PALLATANGA<br>0609= PENIPE<br>0610= CUMANDA<br>0701= MACHALA<br>0702= ARENILLAS<br>0703= ATAHUALPA<br>0704= BALSAS<br>0705= CHILLA<br>0706= EL GUABO<br>0707= HUAQUILLAS<br>0708= MARCABELI<br>0709= PASAJE<br>0710= PIÑAS<br>0711= PORTOVELO<br>0712= SANTA ROSA<br>0713= ZARUMA<br>0714= LAS LAJAS<br>0801= ESMERALDAS<br>0802= ELOY ALFARO<br>0803= MUISNE<br>0804= QUININDE<br>0805= SAN LORENZO<br>0806= ATACAMES<br>0807= RIOVERDE<br>0901= GUAYAQUIL<br>0902= ALFREDO BAQUERIZO MORENO (JUJAN)<br>0903= BALAO<br>0904= BALZAR<br>0905= COLIMES<br>0906= DAULE<br>0907= DURAN<br>0908= EL EMPALME<br>0909= EL TRIUNFO<br>0910= MILAGRO<br>0911= NARANJAL<br>0912= NARANJITO<br>0913= PALESTINA<br>0914= PEDRO CARBO<br>0916= SAMBORONDON<br>0918= SANTA LUCIA<br>0919= URBINA JADO<br>0920= YAGUACHI<br>0921= PLAYAS<br>0922= SIMON BOLIVAR<br>0923= CORONEL MARCELINO MARIDUEÑA<br>0924= LOMAS DE SARGENTILLO<br>0925= NOBOL<br>0927= GENERAL  ANTONIO ELIZALDE<br>0928= ISIDRO AYORA<br>1001= IBARRA<br>1002= ANTONIO ANTE<br>1003= COTACACHI<br>1004= OTAVALO<br>1005= PIMAMPIRO<br>1006= SAN MIGUEL DE URCUQUI<br>1101= LOJA<br>1102= CALVAS<br>1103= CATAMAYO<br>1104= CELICA<br>1105= CHAGUARPAMBA<br>1106= ESPINDOLA<br>1107= GONZANAMA<br>1108= MACARA<br>1109= PALTAS<br>1110= PUYANGO<br>1111= SARAGURO<br>1113= ZAPOTILLO<br>1114= PINDAL<br>1116= OLMEDO<br>1201= BABAHOYO<br>1202= BABA<br>1203= MONTALVO<br>1204= PUEBLOVIEJO<br>1205= QUEVEDO<br>1206= URDANETA<br>1207= VENTANAS<br>1208= VINCES<br>1209= PALENQUE<br>1210= BUENA FE<br>1211= VALENCIA<br>1212= MOCACHE<br>1213= QUINSALOMA<br>1301= PORTOVIEJO<br>1303= CHONE<br>1304= EL CARMEN<br>1305= FLAVIO ALFARO<br>1306= JIPIJAPA<br>1308= MANTA<br>1309= MONTECRISTI<br>1310= PAJAN<br>1311= PICHINCHA<br>1312= ROCAFUERTE<br>1313= SANTA ANA<br>1314= SUCRE<br>1315= TOSAGUA<br>1316= 24 DE MAYO<br>1317= PEDERNALES<br>1318= OLMEDO<br>1320= JAMA<br>1321= JARAMIJO<br>1322= SAN VICENTE<br>1401= MORONA<br>1402= GUALAQUIZA<br>1403= LIMON INDANZA<br>1404= PALORA<br>1405= SANTIAGO<br>1406= SUCUA<br>1407= HUAMBOYA<br>1408= SAN JUAN BOSCO<br>1410= LOGROÑO<br>1412= TIWINTZA<br>1501= TENA<br>1503= ARCHIDONA<br>1504= EL CHACO<br>1507= QUIJOS<br>1509= CARLOS JULIO AROSEMENA TOLA<br>1601= PASTAZA<br>1602= MERA<br>1603= SANTA CLARA<br>1604= ARAJUNO<br>1701= DISTRITO METROPOLITANO DE QUITO<br>1702= CAYAMBE<br>1703= MEJIA<br>1704= PEDRO MONCAYO<br>1705= RUMIÑAHUI<br>1707= SAN MIGUEL DE LOS BANCOS<br>1708= PEDRO VICENTE MALDONADO<br>1709= PUERTO QUITO<br>1801= AMBATO<br>1802= BAÑOS DE AGUA SANTA<br>1803= CEVALLOS<br>1804= MOCHA<br>1805= PATATE<br>1806= QUERO<br>1807= PELILEO<br>1808= PILLARO<br>1809= TISALEO<br>1901= ZAMORA<br>1902= CHINCHIPE<br>1903= NANGARITZA<br>1905= YANTZAZA<br>1906= EL PANGUI<br>1907= CENTINELA DEL CONDOR<br>1908= PALANDA<br>1909= PAQUISHA<br>2001= SAN CRISTOBAL<br>2003= SANTA CRUZ<br>2101= LAGO AGRIO<br>2102= GONZALO PIZARRO<br>2103= PUTUMAYO<br>2104= SHUSHUFINDI<br>2105= SUCUMBIOS<br>2106= CASCALES<br>2201= ORELLANA<br>2203= LA JOYA DE LOS SACHAS<br>2204= LORETO<br>2301= SANTO DOMINGO<br>2302= LA CONCORDIA<br>2401= SANTA ELENA<br>2402= LA LIBERTAD<br>2403= SALINAS<br>9999= NO DETERMINADO\t|  \t\n",
    "|3   \t|MES                                        |   \t  <br><br>1= ENERO<br>2= FEBRERO<br>3= MARZO<br>4= ABRIL<br>5= MAYO<br>6= JUNIO<br>7= JULIO<br>8= AGOSTO<br>9= SEPTIEMBRE<br>10= OCTUBRE<br>11= NOVIEMBRE<br>12= DICIEMBRE      |   \n",
    "|4   \t|DIA                                       |   \t  <br><br>1= LUNES<br>2= MARTES<br>3= MIERCOLES<br>4= JUEVES<br>5= VIERNES<br>6= SABADO<br>7= DOMINGO      | \n",
    "|5   \t|HORA                                        |   \t  <br><br>0= 00:00 A 00:59<br>1= 01:00 A 01:59<br>2= 02:00 A 02:59<br>3= 03:00 A 03:59<br>4= 04:00 A 04:59<br>5= 05:00 A 05:59<br>6= 06:00 A 06:59<br>7= 07:00 A 07:59<br>8= 08:00 A 08:59<br>9= 09:00 A 09:59<br>10= 10:00 A 10:59<br>11= 11:00 A 11:59<br>12= 12:00 A 12:59<br>13= 13:00 A 13:59<br>14= 14:00 A 14:59<br>15= 15:00 A 15:59<br>16= 16:00 A 16:59<br>17= 17:00 A 17:59<br>18= 18:00 A 18:59<br>19= 19:00 A 19:59<br>20= 20:00 A 20:59<br>21= 21:00 A 21:59<br>22= 22:00 A 22:59<br>23= 23:00 A 23:59\n",
    "      |  \n",
    "|6   \t|CLASE                                        |   \t  <br><br>1= ATROPELLOS<br>2= CAÍDA PASAJEROS<br>3= CHOQUES<br>4= ESTRELLAMIENTOS<br>5= ROZAMIENTOS<br>6= VOLCAMIENTOS<br>7= PÉRDIDA DE PISTA<br>8= OTRO   |  \n",
    "|7   \t|CAUSA                                       |   \t  <br><br>1= EMBRIAGUEZ O DROGA<br>2= MAL REBASAMIENTO INVADIR CARRIL<br>3= EXCESO VELOCIDAD<br>4= IMPERICIA E IMPRUDDENCIA DEL CONDUCTOR<br>5= IMPRUDENCIA  DEL PEATÓN<br>6= DAÑOS MECÁNICOS<br>7= NO RESPETA LAS SEÑALES DE TRÁNSITO<br>8= FACTORES CLIMÁTICOS<br>9= MAL ESTADO DE LA VÍA<br>10= OTRAS CAUSAS\n",
    "      |  \n",
    "\n",
    "\n",
    "\n"
   ]
  },
  {
   "cell_type": "markdown",
   "metadata": {},
   "source": [
    "\n",
    "\n",
    "### 1. ¿Cúales son las 5 provincias con mayor numero de víctimas (Heridos + Fallecidos)?\n"
   ]
  },
  {
   "cell_type": "code",
   "execution_count": 32,
   "metadata": {},
   "outputs": [
    {
     "data": {
      "image/png": "[encoded data removed]",
      "text/plain": [
       "<Figure size 1080x360 with 1 Axes>"
      ]
     },
     "metadata": {
      "needs_background": "light"
     },
     "output_type": "display_data"
    }
   ],
   "source": [
    "data_accident_transisto=data.loc[:,'TOTAL_VICTIMAS'].groupby(data.loc[:,'PROVINCIA']).mean().sort_values(ascending=False)\n",
    "f,ax = plt.subplots(1,1,figsize=(15,5))\n",
    "ax = sns.barplot(data_accident_transisto.head(5).index,data_accident_transisto.head(5),palette='rocket')"
   ]
  },
  {
   "cell_type": "markdown",
   "metadata": {},
   "source": [
    "#### 21. Sucumbios <br> 14. Morona Santiago <br> 16. Pastaza <br> 22. Orellana <br> 4. Carchi\n"
   ]
  },
  {
   "cell_type": "markdown",
   "metadata": {},
   "source": [
    "### 2. Total de Víctimas por Provincia\n",
    "\n"
   ]
  },
  {
   "cell_type": "code",
   "execution_count": 34,
   "metadata": {},
   "outputs": [
    {
     "data": {
      "image/png": "[encoded data removed]",
      "text/plain": [
       "<Figure size 1080x288 with 1 Axes>"
      ]
     },
     "metadata": {
      "needs_background": "light"
     },
     "output_type": "display_data"
    }
   ],
   "source": [
    "f,ax = plt.subplots(1,1,figsize=(15,4))\n",
    "ax = sns.barplot(data_accident_trns.head(24).index,data_accident_trns.head(24),palette='rocket')"
   ]
  },
  {
   "cell_type": "markdown",
   "metadata": {},
   "source": [
    "### La provincia con mayor número de victimas es Imbabura "
   ]
  },
  {
   "cell_type": "code",
   "execution_count": null,
   "metadata": {},
   "outputs": [],
   "source": []
  },
  {
   "cell_type": "code",
   "execution_count": null,
   "metadata": {},
   "outputs": [],
   "source": []
  },
  {
   "cell_type": "code",
   "execution_count": null,
   "metadata": {},
   "outputs": [],
   "source": []
  },
  {
   "cell_type": "code",
   "execution_count": null,
   "metadata": {},
   "outputs": [],
   "source": []
  },
  {
   "cell_type": "code",
   "execution_count": null,
   "metadata": {},
   "outputs": [],
   "source": []
  },
  {
   "cell_type": "code",
   "execution_count": null,
   "metadata": {},
   "outputs": [],
   "source": []
  },
  {
   "cell_type": "code",
   "execution_count": null,
   "metadata": {},
   "outputs": [],
   "source": []
  }
 ],
 "metadata": {
  "kernelspec": {
   "display_name": "Python 3",
   "language": "python",
   "name": "python3"
  },
  "language_info": {
   "codemirror_mode": {
    "name": "ipython",
    "version": 3
   },
   "file_extension": ".py",
   "mimetype": "text/x-python",
   "name": "python",
   "nbconvert_exporter": "python",
   "pygments_lexer": "ipython3",
   "version": "3.8.3"
  }
 },
 "nbformat": 4,
 "nbformat_minor": 4
}
